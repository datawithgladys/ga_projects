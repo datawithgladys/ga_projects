{
 "cells": [
  {
   "cell_type": "markdown",
   "metadata": {},
   "source": [
    "## Problem Statement"
   ]
  },
  {
   "cell_type": "markdown",
   "metadata": {},
   "source": [
    "Is it clear what the goal of the project is?<br>\n",
    "What type of model will be developed?<br>\n",
    "How will success be evaluated?<br>\n",
    "Is the scope of the project appropriate?<br>\n",
    "Is it clear who cares about this or why this is important to investigate?<br>\n",
    "Does the student consider the audience and the primary and secondary stakeholders?<br>"
   ]
  },
  {
   "cell_type": "markdown",
   "metadata": {},
   "source": [
    "In this project, we analyse posts from two subreddits (r/Apple and r/Android) and make use of NLP to train a classifier on which subreddit a given post came from. \n",
    "\n",
    "Ultimately, we aim to provide a model that showcases the popular words for each users so that they can make use of them in their copywriting for both marketing and advertising purposes. because they are naturally interested in it, eyecatching headlines with engaging content (in terms of both writing and media).\n"
   ]
  },
  {
   "cell_type": "markdown",
   "metadata": {},
   "source": [
    "In this project, we analyse the Ames Housing Dataset provided from the Ames Assessor's Office to determine what features affect the sales prices of houses in Ames, IA. Through the development of an appropriate regression model, the sales prices of houses will be predicted using various features (variables) of houses from the Ames Housing Dataset. \n",
    "\n",
    "Ultimately, we aim to provide a useful prediction model for real estate agents to predict house prices for their existing and potential clients, providing useful insights on the effect of different features on real estate prices through our model."
   ]
  },
  {
   "cell_type": "markdown",
   "metadata": {},
   "source": [
    "## Data Collection"
   ]
  },
  {
   "cell_type": "markdown",
   "metadata": {},
   "source": [
    "Was enough data gathered to generate a significant result?<br>\n",
    "Was data collected that was useful and relevant to the project?<br>\n",
    "Was data collection and storage optimized through custom functions, pipelines, and/or automation?<br>\n",
    "Was thought given to the server receiving the requests such as considering number of requests per second?<br>"
   ]
  },
  {
   "cell_type": "code",
   "execution_count": 548,
   "metadata": {},
   "outputs": [],
   "source": [
    "import requests\n",
    "import pandas as pd\n",
    "import numpy as np\n",
    "import matplotlib.pyplot as plt\n",
    "import seaborn as sns\n",
    "import time\n",
    "import random\n",
    "import regex as re\n",
    "import string\n",
    "from wordcloud import WordCloud, STOPWORDS, ImageColorGenerator\n",
    "from sklearn import metrics\n",
    "from sklearn.pipeline import Pipeline\n",
    "from sklearn.linear_model import LogisticRegression\n",
    "from sklearn.feature_extraction.text import CountVectorizer\n",
    "from sklearn.model_selection import GridSearchCV, train_test_split, cross_val_score\n",
    "from sklearn.metrics import confusion_matrix, classification_report\n",
    "from sklearn.naive_bayes import MultinomialNB\n",
    "from nltk.stem import WordNetLemmatizer\n",
    "from nltk.corpus import stopwords"
   ]
  },
  {
   "cell_type": "code",
   "execution_count": 2,
   "metadata": {},
   "outputs": [],
   "source": [
    "#list each url with json\n",
    "url_apple = 'https://www.reddit.com/r/apple.json'  \n",
    "url_android = 'https://www.reddit.com/r/android.json'"
   ]
  },
  {
   "cell_type": "markdown",
   "metadata": {},
   "source": [
    "#### Apple"
   ]
  },
  {
   "cell_type": "code",
   "execution_count": 3,
   "metadata": {},
   "outputs": [],
   "source": [
    "def get_posts(url, csv, number):\n",
    "    posts = []\n",
    "    after = None\n",
    "\n",
    "    for a in range(number):\n",
    "        if after == None:\n",
    "            current_url = url\n",
    "        else:\n",
    "            current_url = url + '?after=' + after\n",
    "        print(current_url)\n",
    "        res = requests.get(current_url, headers={'User-agent': 'Pony Inc 1.0'})\n",
    "\n",
    "        if res.status_code != 200:\n",
    "            print('Status error', res.status_code)\n",
    "            break\n",
    "\n",
    "        current_dict = res.json()\n",
    "        current_posts = [p['data'] for p in current_dict['data']['children']]\n",
    "        posts.extend(current_posts)\n",
    "        after = current_dict['data']['after']\n",
    "\n",
    "        #generate a random sleep duration to look more 'natural'\n",
    "        #using time-sleep duration to put random pauses into our requests\n",
    "        sleep_duration = random.randint(2,10)\n",
    "        print(sleep_duration)\n",
    "        time.sleep(sleep_duration)\n",
    "        \n",
    "        print(f\"No.of posts: {len(posts)}\")\n",
    "        pd.DataFrame(posts).to_csv(csv, index = False)"
   ]
  },
  {
   "cell_type": "code",
   "execution_count": 4,
   "metadata": {},
   "outputs": [
    {
     "name": "stdout",
     "output_type": "stream",
     "text": [
      "https://www.reddit.com/r/apple.json\n",
      "10\n",
      "No.of posts: 27\n",
      "https://www.reddit.com/r/apple.json?after=t3_iyy9no\n",
      "5\n",
      "No.of posts: 52\n",
      "https://www.reddit.com/r/apple.json?after=t3_iyabw8\n",
      "4\n",
      "No.of posts: 77\n",
      "https://www.reddit.com/r/apple.json?after=t3_iy7wgw\n",
      "7\n",
      "No.of posts: 102\n",
      "https://www.reddit.com/r/apple.json?after=t3_ixnp6d\n",
      "7\n",
      "No.of posts: 127\n",
      "https://www.reddit.com/r/apple.json?after=t3_ixa6ob\n",
      "5\n",
      "No.of posts: 152\n",
      "https://www.reddit.com/r/apple.json?after=t3_iwfjow\n",
      "8\n",
      "No.of posts: 177\n",
      "https://www.reddit.com/r/apple.json?after=t3_iwfbeh\n",
      "2\n",
      "No.of posts: 202\n",
      "https://www.reddit.com/r/apple.json?after=t3_ivl1pj\n",
      "3\n",
      "No.of posts: 227\n",
      "https://www.reddit.com/r/apple.json?after=t3_ivvlx8\n",
      "7\n",
      "No.of posts: 252\n",
      "https://www.reddit.com/r/apple.json?after=t3_iuj9jj\n",
      "2\n",
      "No.of posts: 277\n",
      "https://www.reddit.com/r/apple.json?after=t3_iuciej\n",
      "10\n",
      "No.of posts: 302\n",
      "https://www.reddit.com/r/apple.json?after=t3_iu1oi1\n",
      "6\n",
      "No.of posts: 327\n",
      "https://www.reddit.com/r/apple.json?after=t3_itolrq\n",
      "5\n",
      "No.of posts: 352\n",
      "https://www.reddit.com/r/apple.json?after=t3_itdnpz\n",
      "3\n",
      "No.of posts: 377\n",
      "https://www.reddit.com/r/apple.json?after=t3_iue7c0\n",
      "10\n",
      "No.of posts: 402\n",
      "https://www.reddit.com/r/apple.json?after=t3_iso0cv\n",
      "4\n",
      "No.of posts: 427\n",
      "https://www.reddit.com/r/apple.json?after=t3_irfewn\n",
      "8\n",
      "No.of posts: 452\n",
      "https://www.reddit.com/r/apple.json?after=t3_iqpn2z\n",
      "6\n",
      "No.of posts: 477\n",
      "https://www.reddit.com/r/apple.json?after=t3_iq53lp\n",
      "6\n",
      "No.of posts: 502\n",
      "https://www.reddit.com/r/apple.json?after=t3_ippzgq\n",
      "2\n",
      "No.of posts: 527\n",
      "https://www.reddit.com/r/apple.json?after=t3_iojtra\n",
      "9\n",
      "No.of posts: 552\n",
      "https://www.reddit.com/r/apple.json?after=t3_iny81f\n",
      "7\n",
      "No.of posts: 577\n",
      "https://www.reddit.com/r/apple.json?after=t3_in5a2d\n",
      "3\n",
      "No.of posts: 602\n",
      "https://www.reddit.com/r/apple.json?after=t3_in4cbx\n",
      "6\n",
      "No.of posts: 627\n",
      "https://www.reddit.com/r/apple.json?after=t3_ilxtdt\n",
      "7\n",
      "No.of posts: 652\n",
      "https://www.reddit.com/r/apple.json?after=t3_il8k54\n",
      "10\n",
      "No.of posts: 677\n",
      "https://www.reddit.com/r/apple.json?after=t3_ik5wz2\n",
      "5\n",
      "No.of posts: 702\n",
      "https://www.reddit.com/r/apple.json?after=t3_ij7uvd\n",
      "7\n",
      "No.of posts: 727\n",
      "https://www.reddit.com/r/apple.json?after=t3_iidr8r\n",
      "2\n",
      "No.of posts: 752\n",
      "https://www.reddit.com/r/apple.json?after=t3_iishqj\n",
      "3\n",
      "No.of posts: 777\n",
      "https://www.reddit.com/r/apple.json?after=t3_ibk9q2\n",
      "4\n",
      "No.of posts: 802\n",
      "https://www.reddit.com/r/apple.json?after=t3_hql3g2\n",
      "10\n",
      "No.of posts: 827\n",
      "https://www.reddit.com/r/apple.json?after=t3_gxod5a\n",
      "2\n",
      "No.of posts: 843\n",
      "https://www.reddit.com/r/apple.json\n",
      "3\n",
      "No.of posts: 870\n",
      "https://www.reddit.com/r/apple.json?after=t3_izwcbx\n",
      "6\n",
      "No.of posts: 895\n",
      "https://www.reddit.com/r/apple.json?after=t3_iyvm6b\n",
      "2\n",
      "No.of posts: 920\n",
      "https://www.reddit.com/r/apple.json?after=t3_iy7frb\n",
      "3\n",
      "No.of posts: 945\n",
      "https://www.reddit.com/r/apple.json?after=t3_iy6t5b\n",
      "4\n",
      "No.of posts: 970\n",
      "https://www.reddit.com/r/apple.json?after=t3_iy04j7\n",
      "9\n",
      "No.of posts: 995\n"
     ]
    }
   ],
   "source": [
    "#extract posts from apple's subreddit, and export to apple.csv\n",
    "#loop 40 times\n",
    "get_posts(url_apple, '../datasets/apple.csv', 40)"
   ]
  },
  {
   "cell_type": "code",
   "execution_count": 147,
   "metadata": {},
   "outputs": [
    {
     "data": {
      "text/plain": [
       "995"
      ]
     },
     "execution_count": 147,
     "metadata": {},
     "output_type": "execute_result"
    }
   ],
   "source": [
    "#read in apple.csv\n",
    "apple = pd.read_csv('../datasets/apple.csv')\n",
    "\n",
    "#double-check for no. of posts before removing duplicates\n",
    "len(apple)"
   ]
  },
  {
   "cell_type": "code",
   "execution_count": 148,
   "metadata": {},
   "outputs": [
    {
     "data": {
      "text/plain": [
       "844"
      ]
     },
     "execution_count": 148,
     "metadata": {},
     "output_type": "execute_result"
    }
   ],
   "source": [
    "#drop posts with duplicated titles\n",
    "#many duplicates are removed\n",
    "apple.drop_duplicates(subset='title', keep='first', inplace=True)\n",
    "len(apple)"
   ]
  },
  {
   "cell_type": "markdown",
   "metadata": {},
   "source": [
    "#### Android"
   ]
  },
  {
   "cell_type": "code",
   "execution_count": 7,
   "metadata": {
    "scrolled": true
   },
   "outputs": [
    {
     "name": "stdout",
     "output_type": "stream",
     "text": [
      "https://www.reddit.com/r/android.json\n",
      "6\n",
      "No.of posts: 26\n",
      "https://www.reddit.com/r/android.json?after=t3_iyu3v8\n",
      "3\n",
      "No.of posts: 51\n",
      "https://www.reddit.com/r/android.json?after=t3_ixpi15\n",
      "6\n",
      "No.of posts: 76\n",
      "https://www.reddit.com/r/android.json?after=t3_iwuvgg\n",
      "4\n",
      "No.of posts: 101\n",
      "https://www.reddit.com/r/android.json?after=t3_ivwj5r\n",
      "6\n",
      "No.of posts: 126\n",
      "https://www.reddit.com/r/android.json?after=t3_iv5036\n",
      "2\n",
      "No.of posts: 151\n",
      "https://www.reddit.com/r/android.json?after=t3_iub74x\n",
      "7\n",
      "No.of posts: 176\n",
      "https://www.reddit.com/r/android.json?after=t3_itjm0f\n",
      "4\n",
      "No.of posts: 201\n",
      "https://www.reddit.com/r/android.json?after=t3_islnk5\n",
      "5\n",
      "No.of posts: 226\n",
      "https://www.reddit.com/r/android.json?after=t3_ir3di6\n",
      "5\n",
      "No.of posts: 251\n",
      "https://www.reddit.com/r/android.json?after=t3_iq0hvi\n",
      "4\n",
      "No.of posts: 276\n",
      "https://www.reddit.com/r/android.json?after=t3_ip8zha\n",
      "4\n",
      "No.of posts: 301\n",
      "https://www.reddit.com/r/android.json?after=t3_iozl12\n",
      "8\n",
      "No.of posts: 326\n",
      "https://www.reddit.com/r/android.json?after=t3_io7dji\n",
      "2\n",
      "No.of posts: 351\n",
      "https://www.reddit.com/r/android.json?after=t3_imzdmk\n",
      "5\n",
      "No.of posts: 376\n",
      "https://www.reddit.com/r/android.json?after=t3_ilhgbh\n",
      "8\n",
      "No.of posts: 401\n",
      "https://www.reddit.com/r/android.json?after=t3_ikyw7m\n",
      "3\n",
      "No.of posts: 426\n",
      "https://www.reddit.com/r/android.json?after=t3_iko9sl\n",
      "5\n",
      "No.of posts: 451\n",
      "https://www.reddit.com/r/android.json?after=t3_ik0b04\n",
      "6\n",
      "No.of posts: 476\n",
      "https://www.reddit.com/r/android.json?after=t3_iicow6\n",
      "5\n",
      "No.of posts: 501\n",
      "https://www.reddit.com/r/android.json?after=t3_ihn1pk\n",
      "3\n",
      "No.of posts: 526\n",
      "https://www.reddit.com/r/android.json?after=t3_igwby4\n",
      "10\n",
      "No.of posts: 551\n",
      "https://www.reddit.com/r/android.json?after=t3_ig8za8\n",
      "3\n",
      "No.of posts: 576\n",
      "https://www.reddit.com/r/android.json?after=t3_ifge6u\n",
      "4\n",
      "No.of posts: 601\n",
      "https://www.reddit.com/r/android.json?after=t3_ie95md\n",
      "7\n",
      "No.of posts: 626\n",
      "https://www.reddit.com/r/android.json?after=t3_idfcf3\n",
      "10\n",
      "No.of posts: 651\n",
      "https://www.reddit.com/r/android.json?after=t3_ickd0k\n",
      "10\n",
      "No.of posts: 676\n",
      "https://www.reddit.com/r/android.json?after=t3_ic4hm9\n",
      "6\n",
      "No.of posts: 701\n",
      "https://www.reddit.com/r/android.json?after=t3_iaw86a\n",
      "7\n",
      "No.of posts: 726\n",
      "https://www.reddit.com/r/android.json?after=t3_i9ha48\n",
      "9\n",
      "No.of posts: 730\n",
      "https://www.reddit.com/r/android.json\n",
      "2\n",
      "No.of posts: 756\n",
      "https://www.reddit.com/r/android.json?after=t3_iyu3v8\n",
      "8\n",
      "No.of posts: 781\n",
      "https://www.reddit.com/r/android.json?after=t3_ixpi15\n",
      "3\n",
      "No.of posts: 806\n",
      "https://www.reddit.com/r/android.json?after=t3_iwuvgg\n",
      "9\n",
      "No.of posts: 831\n",
      "https://www.reddit.com/r/android.json?after=t3_ivwj5r\n",
      "10\n",
      "No.of posts: 856\n",
      "https://www.reddit.com/r/android.json?after=t3_iv5036\n",
      "9\n",
      "No.of posts: 881\n",
      "https://www.reddit.com/r/android.json?after=t3_iub74x\n",
      "2\n",
      "No.of posts: 906\n",
      "https://www.reddit.com/r/android.json?after=t3_itjm0f\n",
      "4\n",
      "No.of posts: 931\n",
      "https://www.reddit.com/r/android.json?after=t3_islnk5\n",
      "3\n",
      "No.of posts: 956\n",
      "https://www.reddit.com/r/android.json?after=t3_ir3di6\n",
      "7\n",
      "No.of posts: 981\n",
      "https://www.reddit.com/r/android.json?after=t3_iq0hvi\n",
      "6\n",
      "No.of posts: 1006\n",
      "https://www.reddit.com/r/android.json?after=t3_ip8zha\n",
      "7\n",
      "No.of posts: 1031\n",
      "https://www.reddit.com/r/android.json?after=t3_iozl12\n",
      "5\n",
      "No.of posts: 1056\n",
      "https://www.reddit.com/r/android.json?after=t3_io7dji\n",
      "4\n",
      "No.of posts: 1081\n",
      "https://www.reddit.com/r/android.json?after=t3_imzdmk\n",
      "6\n",
      "No.of posts: 1106\n"
     ]
    }
   ],
   "source": [
    "#extract posts from android's subreddit, and export to android's csv\n",
    "#loop 45 times\n",
    "get_posts(url_android, '../datasets/android.csv', 45)"
   ]
  },
  {
   "cell_type": "code",
   "execution_count": 149,
   "metadata": {},
   "outputs": [
    {
     "data": {
      "text/plain": [
       "1106"
      ]
     },
     "execution_count": 149,
     "metadata": {},
     "output_type": "execute_result"
    }
   ],
   "source": [
    "#read in android.csv\n",
    "android = pd.read_csv('../datasets/android.csv')\n",
    "\n",
    "#double-check for no. of posts before removing duplicates\n",
    "len(android)"
   ]
  },
  {
   "cell_type": "code",
   "execution_count": 150,
   "metadata": {},
   "outputs": [
    {
     "data": {
      "text/plain": [
       "728"
      ]
     },
     "execution_count": 150,
     "metadata": {},
     "output_type": "execute_result"
    }
   ],
   "source": [
    "#drop posts with duplicated titles\n",
    "#many duplicates are removed\n",
    "android.drop_duplicates(subset='title', keep='first', inplace=True)\n",
    "len(android)"
   ]
  },
  {
   "cell_type": "markdown",
   "metadata": {},
   "source": [
    "## Data Cleaning and Exploratory Data Analysis"
   ]
  },
  {
   "cell_type": "markdown",
   "metadata": {},
   "source": [
    "Are missing values imputed/handled appropriately?<br>\n",
    "Are distributions examined and described?<br>\n",
    "Are outliers identified and addressed?<br>\n",
    "Are appropriate summary statistics provided?<br>\n",
    "Are steps taken during data cleaning and EDA framed appropriately?<br>\n",
    "Does the student address whether or not they are likely to be able to answer their problem statement with the provided data given what they've discovered during EDA?"
   ]
  },
  {
   "cell_type": "markdown",
   "metadata": {},
   "source": [
    "#### Apple"
   ]
  },
  {
   "cell_type": "code",
   "execution_count": 151,
   "metadata": {},
   "outputs": [],
   "source": [
    "#combine all irrelevant columns to dropped_cols\n",
    "dropped_cols = []\n",
    "for x in apple.columns:    \n",
    "    if x not in ['selftext', 'title', 'subreddit']:\n",
    "        dropped_cols.append(x)"
   ]
  },
  {
   "cell_type": "markdown",
   "metadata": {},
   "source": [
    "Since there are many video posts on the Apple subreddit which leads to an empty selftext with a filled title, we are also treating titles as selftext."
   ]
  },
  {
   "cell_type": "code",
   "execution_count": 152,
   "metadata": {},
   "outputs": [],
   "source": [
    "#drop dropped_cols and the title, leaving only selftext and subreddit columns\n",
    "apple_selftext = apple.drop(dropped_cols + ['title'], axis = 1)\n",
    "\n",
    "#drop dropped_cols and the selftext, leaving only title and subreddit columns\n",
    "apple_title = apple.drop(dropped_cols + ['selftext'], axis = 1)\n",
    "#rename title to selftext to append later\n",
    "apple_title.rename(columns={'title': 'selftext'}, inplace=True)"
   ]
  },
  {
   "cell_type": "code",
   "execution_count": 153,
   "metadata": {},
   "outputs": [
    {
     "data": {
      "text/plain": [
       "(Index(['subreddit', 'selftext'], dtype='object'),\n",
       " Index(['subreddit', 'selftext'], dtype='object'))"
      ]
     },
     "execution_count": 153,
     "metadata": {},
     "output_type": "execute_result"
    }
   ],
   "source": [
    "(apple_selftext.columns, apple_title.columns)"
   ]
  },
  {
   "cell_type": "code",
   "execution_count": 154,
   "metadata": {},
   "outputs": [
    {
     "data": {
      "text/html": [
       "<div>\n",
       "<style scoped>\n",
       "    .dataframe tbody tr th:only-of-type {\n",
       "        vertical-align: middle;\n",
       "    }\n",
       "\n",
       "    .dataframe tbody tr th {\n",
       "        vertical-align: top;\n",
       "    }\n",
       "\n",
       "    .dataframe thead th {\n",
       "        text-align: right;\n",
       "    }\n",
       "</style>\n",
       "<table border=\"1\" class=\"dataframe\">\n",
       "  <thead>\n",
       "    <tr style=\"text-align: right;\">\n",
       "      <th></th>\n",
       "      <th>subreddit</th>\n",
       "      <th>selftext</th>\n",
       "    </tr>\n",
       "  </thead>\n",
       "  <tbody>\n",
       "    <tr>\n",
       "      <th>0</th>\n",
       "      <td>apple</td>\n",
       "      <td>\\n\\nWelcome to the daily Tech Support thread f...</td>\n",
       "    </tr>\n",
       "    <tr>\n",
       "      <th>1</th>\n",
       "      <td>apple</td>\n",
       "      <td>## Hello, /r/Apple, and welcome to Wallpaper W...</td>\n",
       "    </tr>\n",
       "    <tr>\n",
       "      <th>2</th>\n",
       "      <td>apple</td>\n",
       "      <td>NaN</td>\n",
       "    </tr>\n",
       "    <tr>\n",
       "      <th>3</th>\n",
       "      <td>apple</td>\n",
       "      <td>NaN</td>\n",
       "    </tr>\n",
       "    <tr>\n",
       "      <th>4</th>\n",
       "      <td>apple</td>\n",
       "      <td>NaN</td>\n",
       "    </tr>\n",
       "    <tr>\n",
       "      <th>...</th>\n",
       "      <td>...</td>\n",
       "      <td>...</td>\n",
       "    </tr>\n",
       "    <tr>\n",
       "      <th>1683</th>\n",
       "      <td>apple</td>\n",
       "      <td>iPhone-maker Foxconn approved to reopen China ...</td>\n",
       "    </tr>\n",
       "    <tr>\n",
       "      <th>1684</th>\n",
       "      <td>apple</td>\n",
       "      <td>Night Mode: Which phone camera comes out on top?</td>\n",
       "    </tr>\n",
       "    <tr>\n",
       "      <th>1685</th>\n",
       "      <td>apple</td>\n",
       "      <td>iPhone 11 Pro: the best small phone available</td>\n",
       "    </tr>\n",
       "    <tr>\n",
       "      <th>1686</th>\n",
       "      <td>apple</td>\n",
       "      <td>Worth the upgrade? We review the iPhone 11 and...</td>\n",
       "    </tr>\n",
       "    <tr>\n",
       "      <th>1687</th>\n",
       "      <td>apple</td>\n",
       "      <td>Apple iPhone 12 mini just confirmed in new lea...</td>\n",
       "    </tr>\n",
       "  </tbody>\n",
       "</table>\n",
       "<p>1688 rows × 2 columns</p>\n",
       "</div>"
      ],
      "text/plain": [
       "     subreddit                                           selftext\n",
       "0        apple  \\n\\nWelcome to the daily Tech Support thread f...\n",
       "1        apple  ## Hello, /r/Apple, and welcome to Wallpaper W...\n",
       "2        apple                                                NaN\n",
       "3        apple                                                NaN\n",
       "4        apple                                                NaN\n",
       "...        ...                                                ...\n",
       "1683     apple  iPhone-maker Foxconn approved to reopen China ...\n",
       "1684     apple   Night Mode: Which phone camera comes out on top?\n",
       "1685     apple      iPhone 11 Pro: the best small phone available\n",
       "1686     apple  Worth the upgrade? We review the iPhone 11 and...\n",
       "1687     apple  Apple iPhone 12 mini just confirmed in new lea...\n",
       "\n",
       "[1688 rows x 2 columns]"
      ]
     },
     "execution_count": 154,
     "metadata": {},
     "output_type": "execute_result"
    }
   ],
   "source": [
    "apple_df = apple_selftext.append(apple_title, ignore_index=True)\n",
    "apple_df"
   ]
  },
  {
   "cell_type": "code",
   "execution_count": 155,
   "metadata": {},
   "outputs": [
    {
     "data": {
      "text/plain": [
       "1013"
      ]
     },
     "execution_count": 155,
     "metadata": {},
     "output_type": "execute_result"
    }
   ],
   "source": [
    "apple_df.drop_duplicates(subset='selftext', keep='first', inplace=True)\n",
    "len(apple_df)"
   ]
  },
  {
   "cell_type": "markdown",
   "metadata": {},
   "source": [
    "#### Android"
   ]
  },
  {
   "cell_type": "code",
   "execution_count": 156,
   "metadata": {},
   "outputs": [],
   "source": [
    "#combine all irrelevant columns to dropped_col\n",
    "dropped_col = []\n",
    "for x in android.columns:    \n",
    "    if x not in ['selftext', 'title', 'subreddit']:\n",
    "        dropped_col.append(x)"
   ]
  },
  {
   "cell_type": "markdown",
   "metadata": {},
   "source": [
    "Since there are also numerous video posts on the Android subreddit which leads to an empty selftext with a filled title, we are treating titles as selftext."
   ]
  },
  {
   "cell_type": "code",
   "execution_count": 157,
   "metadata": {},
   "outputs": [],
   "source": [
    "#drop dropped_col and the title, leaving only selftext and subreddit columns\n",
    "android_selftext = android.drop(dropped_col + ['title'], axis = 1)\n",
    "\n",
    "#drop dropped_col and the selftext, leaving only title and subreddit columns\n",
    "android_title = android.drop(dropped_col + ['selftext'], axis = 1)\n",
    "#rename title to selftext to append later\n",
    "android_title.rename(columns={'title': 'selftext'}, inplace=True)"
   ]
  },
  {
   "cell_type": "code",
   "execution_count": 158,
   "metadata": {},
   "outputs": [
    {
     "data": {
      "text/plain": [
       "(Index(['subreddit', 'selftext'], dtype='object'),\n",
       " Index(['subreddit', 'selftext'], dtype='object'))"
      ]
     },
     "execution_count": 158,
     "metadata": {},
     "output_type": "execute_result"
    }
   ],
   "source": [
    "(android_selftext.columns, android_title.columns)"
   ]
  },
  {
   "cell_type": "code",
   "execution_count": 159,
   "metadata": {},
   "outputs": [
    {
     "name": "stdout",
     "output_type": "stream",
     "text": [
      "1456\n",
      "892\n"
     ]
    }
   ],
   "source": [
    "android_df = android_selftext.append(android_title, ignore_index=True)\n",
    "print(len(android_df))\n",
    "\n",
    "android_df.drop_duplicates(subset='selftext', keep='first', inplace=True)\n",
    "print(len(android_df))"
   ]
  },
  {
   "cell_type": "markdown",
   "metadata": {},
   "source": [
    "#### Combined (Apple and Android)"
   ]
  },
  {
   "cell_type": "code",
   "execution_count": 160,
   "metadata": {},
   "outputs": [
    {
     "data": {
      "text/html": [
       "<div>\n",
       "<style scoped>\n",
       "    .dataframe tbody tr th:only-of-type {\n",
       "        vertical-align: middle;\n",
       "    }\n",
       "\n",
       "    .dataframe tbody tr th {\n",
       "        vertical-align: top;\n",
       "    }\n",
       "\n",
       "    .dataframe thead th {\n",
       "        text-align: right;\n",
       "    }\n",
       "</style>\n",
       "<table border=\"1\" class=\"dataframe\">\n",
       "  <thead>\n",
       "    <tr style=\"text-align: right;\">\n",
       "      <th></th>\n",
       "      <th>subreddit</th>\n",
       "      <th>selftext</th>\n",
       "    </tr>\n",
       "  </thead>\n",
       "  <tbody>\n",
       "    <tr>\n",
       "      <th>0</th>\n",
       "      <td>apple</td>\n",
       "      <td>\\n\\nWelcome to the daily Tech Support thread f...</td>\n",
       "    </tr>\n",
       "    <tr>\n",
       "      <th>1</th>\n",
       "      <td>apple</td>\n",
       "      <td>## Hello, /r/Apple, and welcome to Wallpaper W...</td>\n",
       "    </tr>\n",
       "    <tr>\n",
       "      <th>2</th>\n",
       "      <td>apple</td>\n",
       "      <td>NaN</td>\n",
       "    </tr>\n",
       "    <tr>\n",
       "      <th>3</th>\n",
       "      <td>apple</td>\n",
       "      <td>In Preview: Tools&amp;gt;Annotate&amp;gt;Signatures</td>\n",
       "    </tr>\n",
       "    <tr>\n",
       "      <th>4</th>\n",
       "      <td>apple</td>\n",
       "      <td>I get they are trying to make it so your iPhon...</td>\n",
       "    </tr>\n",
       "    <tr>\n",
       "      <th>...</th>\n",
       "      <td>...</td>\n",
       "      <td>...</td>\n",
       "    </tr>\n",
       "    <tr>\n",
       "      <th>1900</th>\n",
       "      <td>Android</td>\n",
       "      <td>The Linux-based PinePhone is the most interest...</td>\n",
       "    </tr>\n",
       "    <tr>\n",
       "      <th>1901</th>\n",
       "      <td>Android</td>\n",
       "      <td>LG Q92 5G full specifications &amp;amp; image leak...</td>\n",
       "    </tr>\n",
       "    <tr>\n",
       "      <th>1902</th>\n",
       "      <td>Android</td>\n",
       "      <td>Epic is suing Google over Fortnite’s removal f...</td>\n",
       "    </tr>\n",
       "    <tr>\n",
       "      <th>1903</th>\n",
       "      <td>Android</td>\n",
       "      <td>Nubia Red Magic 5S with 144Hz display and acti...</td>\n",
       "    </tr>\n",
       "    <tr>\n",
       "      <th>1904</th>\n",
       "      <td>Android</td>\n",
       "      <td>Signal has desktop calling in beta now</td>\n",
       "    </tr>\n",
       "  </tbody>\n",
       "</table>\n",
       "<p>1905 rows × 2 columns</p>\n",
       "</div>"
      ],
      "text/plain": [
       "     subreddit                                           selftext\n",
       "0        apple  \\n\\nWelcome to the daily Tech Support thread f...\n",
       "1        apple  ## Hello, /r/Apple, and welcome to Wallpaper W...\n",
       "2        apple                                                NaN\n",
       "3        apple        In Preview: Tools&gt;Annotate&gt;Signatures\n",
       "4        apple  I get they are trying to make it so your iPhon...\n",
       "...        ...                                                ...\n",
       "1900   Android  The Linux-based PinePhone is the most interest...\n",
       "1901   Android  LG Q92 5G full specifications &amp; image leak...\n",
       "1902   Android  Epic is suing Google over Fortnite’s removal f...\n",
       "1903   Android  Nubia Red Magic 5S with 144Hz display and acti...\n",
       "1904   Android             Signal has desktop calling in beta now\n",
       "\n",
       "[1905 rows x 2 columns]"
      ]
     },
     "execution_count": 160,
     "metadata": {},
     "output_type": "execute_result"
    }
   ],
   "source": [
    "combined = apple_df.append(android_df, ignore_index=True)\n",
    "combined"
   ]
  },
  {
   "cell_type": "code",
   "execution_count": 161,
   "metadata": {},
   "outputs": [],
   "source": [
    "combined.rename(columns={'selftext': 'text'}, inplace=True)"
   ]
  },
  {
   "cell_type": "code",
   "execution_count": 162,
   "metadata": {},
   "outputs": [
    {
     "data": {
      "text/plain": [
       "subreddit    0\n",
       "text         2\n",
       "dtype: int64"
      ]
     },
     "execution_count": 162,
     "metadata": {},
     "output_type": "execute_result"
    }
   ],
   "source": [
    "combined.isnull().sum()"
   ]
  },
  {
   "cell_type": "code",
   "execution_count": 164,
   "metadata": {},
   "outputs": [],
   "source": [
    "#NaN are due to videos. Will drop them since we kept their respective titles already\n",
    "combined.dropna(axis = 0, how = 'any', inplace=True)\n",
    "#reset index\n",
    "combined.reset_index(drop=True, inplace=True)"
   ]
  },
  {
   "cell_type": "code",
   "execution_count": 165,
   "metadata": {},
   "outputs": [
    {
     "data": {
      "text/plain": [
       "subreddit    0\n",
       "text         0\n",
       "dtype: int64"
      ]
     },
     "execution_count": 165,
     "metadata": {},
     "output_type": "execute_result"
    }
   ],
   "source": [
    "combined.isnull().sum()"
   ]
  },
  {
   "cell_type": "code",
   "execution_count": 166,
   "metadata": {},
   "outputs": [
    {
     "data": {
      "text/html": [
       "<div>\n",
       "<style scoped>\n",
       "    .dataframe tbody tr th:only-of-type {\n",
       "        vertical-align: middle;\n",
       "    }\n",
       "\n",
       "    .dataframe tbody tr th {\n",
       "        vertical-align: top;\n",
       "    }\n",
       "\n",
       "    .dataframe thead th {\n",
       "        text-align: right;\n",
       "    }\n",
       "</style>\n",
       "<table border=\"1\" class=\"dataframe\">\n",
       "  <thead>\n",
       "    <tr style=\"text-align: right;\">\n",
       "      <th></th>\n",
       "      <th>subreddit</th>\n",
       "      <th>text</th>\n",
       "    </tr>\n",
       "  </thead>\n",
       "  <tbody>\n",
       "    <tr>\n",
       "      <th>0</th>\n",
       "      <td>apple</td>\n",
       "      <td>\\n\\nWelcome to the daily Tech Support thread f...</td>\n",
       "    </tr>\n",
       "    <tr>\n",
       "      <th>1</th>\n",
       "      <td>apple</td>\n",
       "      <td>## Hello, /r/Apple, and welcome to Wallpaper W...</td>\n",
       "    </tr>\n",
       "    <tr>\n",
       "      <th>2</th>\n",
       "      <td>apple</td>\n",
       "      <td>In Preview: Tools&amp;gt;Annotate&amp;gt;Signatures</td>\n",
       "    </tr>\n",
       "    <tr>\n",
       "      <th>3</th>\n",
       "      <td>apple</td>\n",
       "      <td>I get they are trying to make it so your iPhon...</td>\n",
       "    </tr>\n",
       "    <tr>\n",
       "      <th>4</th>\n",
       "      <td>apple</td>\n",
       "      <td>I just got the update today, Powerbeats Pro no...</td>\n",
       "    </tr>\n",
       "    <tr>\n",
       "      <th>...</th>\n",
       "      <td>...</td>\n",
       "      <td>...</td>\n",
       "    </tr>\n",
       "    <tr>\n",
       "      <th>1898</th>\n",
       "      <td>Android</td>\n",
       "      <td>The Linux-based PinePhone is the most interest...</td>\n",
       "    </tr>\n",
       "    <tr>\n",
       "      <th>1899</th>\n",
       "      <td>Android</td>\n",
       "      <td>LG Q92 5G full specifications &amp;amp; image leak...</td>\n",
       "    </tr>\n",
       "    <tr>\n",
       "      <th>1900</th>\n",
       "      <td>Android</td>\n",
       "      <td>Epic is suing Google over Fortnite’s removal f...</td>\n",
       "    </tr>\n",
       "    <tr>\n",
       "      <th>1901</th>\n",
       "      <td>Android</td>\n",
       "      <td>Nubia Red Magic 5S with 144Hz display and acti...</td>\n",
       "    </tr>\n",
       "    <tr>\n",
       "      <th>1902</th>\n",
       "      <td>Android</td>\n",
       "      <td>Signal has desktop calling in beta now</td>\n",
       "    </tr>\n",
       "  </tbody>\n",
       "</table>\n",
       "<p>1903 rows × 2 columns</p>\n",
       "</div>"
      ],
      "text/plain": [
       "     subreddit                                               text\n",
       "0        apple  \\n\\nWelcome to the daily Tech Support thread f...\n",
       "1        apple  ## Hello, /r/Apple, and welcome to Wallpaper W...\n",
       "2        apple        In Preview: Tools&gt;Annotate&gt;Signatures\n",
       "3        apple  I get they are trying to make it so your iPhon...\n",
       "4        apple  I just got the update today, Powerbeats Pro no...\n",
       "...        ...                                                ...\n",
       "1898   Android  The Linux-based PinePhone is the most interest...\n",
       "1899   Android  LG Q92 5G full specifications &amp; image leak...\n",
       "1900   Android  Epic is suing Google over Fortnite’s removal f...\n",
       "1901   Android  Nubia Red Magic 5S with 144Hz display and acti...\n",
       "1902   Android             Signal has desktop calling in beta now\n",
       "\n",
       "[1903 rows x 2 columns]"
      ]
     },
     "execution_count": 166,
     "metadata": {},
     "output_type": "execute_result"
    }
   ],
   "source": [
    "combined"
   ]
  },
  {
   "cell_type": "markdown",
   "metadata": {},
   "source": [
    "#### Ideal target value"
   ]
  },
  {
   "cell_type": "code",
   "execution_count": 167,
   "metadata": {},
   "outputs": [
    {
     "data": {
      "text/html": [
       "<div>\n",
       "<style scoped>\n",
       "    .dataframe tbody tr th:only-of-type {\n",
       "        vertical-align: middle;\n",
       "    }\n",
       "\n",
       "    .dataframe tbody tr th {\n",
       "        vertical-align: top;\n",
       "    }\n",
       "\n",
       "    .dataframe thead th {\n",
       "        text-align: right;\n",
       "    }\n",
       "</style>\n",
       "<table border=\"1\" class=\"dataframe\">\n",
       "  <thead>\n",
       "    <tr style=\"text-align: right;\">\n",
       "      <th></th>\n",
       "      <th>text</th>\n",
       "      <th>target</th>\n",
       "    </tr>\n",
       "  </thead>\n",
       "  <tbody>\n",
       "    <tr>\n",
       "      <th>0</th>\n",
       "      <td>\\n\\nWelcome to the daily Tech Support thread f...</td>\n",
       "      <td>1</td>\n",
       "    </tr>\n",
       "    <tr>\n",
       "      <th>1</th>\n",
       "      <td>## Hello, /r/Apple, and welcome to Wallpaper W...</td>\n",
       "      <td>1</td>\n",
       "    </tr>\n",
       "    <tr>\n",
       "      <th>2</th>\n",
       "      <td>In Preview: Tools&amp;gt;Annotate&amp;gt;Signatures</td>\n",
       "      <td>1</td>\n",
       "    </tr>\n",
       "    <tr>\n",
       "      <th>3</th>\n",
       "      <td>I get they are trying to make it so your iPhon...</td>\n",
       "      <td>1</td>\n",
       "    </tr>\n",
       "    <tr>\n",
       "      <th>4</th>\n",
       "      <td>I just got the update today, Powerbeats Pro no...</td>\n",
       "      <td>1</td>\n",
       "    </tr>\n",
       "  </tbody>\n",
       "</table>\n",
       "</div>"
      ],
      "text/plain": [
       "                                                text  target\n",
       "0  \\n\\nWelcome to the daily Tech Support thread f...       1\n",
       "1  ## Hello, /r/Apple, and welcome to Wallpaper W...       1\n",
       "2        In Preview: Tools&gt;Annotate&gt;Signatures       1\n",
       "3  I get they are trying to make it so your iPhon...       1\n",
       "4  I just got the update today, Powerbeats Pro no...       1"
      ]
     },
     "execution_count": 167,
     "metadata": {},
     "output_type": "execute_result"
    }
   ],
   "source": [
    "#Target is 'subreddit', with current values: 'apple', 'Android'.\n",
    "#Need to transform to 0 or 1 values. Set apple = 1 , Android = 0\n",
    "\n",
    "combined['target'] = combined['subreddit'].map({'apple': 1, 'Android': 0})\n",
    "combined.drop('subreddit', axis=1, inplace=True)\n",
    "combined.head()"
   ]
  },
  {
   "cell_type": "code",
   "execution_count": 575,
   "metadata": {},
   "outputs": [],
   "source": [
    "#export\n",
    "combined.to_csv('../datasets/combined.csv', index=False)"
   ]
  },
  {
   "cell_type": "markdown",
   "metadata": {},
   "source": [
    "#### Data cleaning"
   ]
  },
  {
   "cell_type": "code",
   "execution_count": 727,
   "metadata": {},
   "outputs": [],
   "source": [
    "#read in apple.csv\n",
    "combined_df = pd.read_csv('../datasets/combined.csv')"
   ]
  },
  {
   "cell_type": "code",
   "execution_count": 728,
   "metadata": {},
   "outputs": [
    {
     "data": {
      "text/html": [
       "<div>\n",
       "<style scoped>\n",
       "    .dataframe tbody tr th:only-of-type {\n",
       "        vertical-align: middle;\n",
       "    }\n",
       "\n",
       "    .dataframe tbody tr th {\n",
       "        vertical-align: top;\n",
       "    }\n",
       "\n",
       "    .dataframe thead th {\n",
       "        text-align: right;\n",
       "    }\n",
       "</style>\n",
       "<table border=\"1\" class=\"dataframe\">\n",
       "  <thead>\n",
       "    <tr style=\"text-align: right;\">\n",
       "      <th></th>\n",
       "      <th>text</th>\n",
       "      <th>target</th>\n",
       "    </tr>\n",
       "  </thead>\n",
       "  <tbody>\n",
       "    <tr>\n",
       "      <th>0</th>\n",
       "      <td>\\n\\nWelcome to the daily Tech Support thread f...</td>\n",
       "      <td>1</td>\n",
       "    </tr>\n",
       "    <tr>\n",
       "      <th>1</th>\n",
       "      <td>## Hello, /r/Apple, and welcome to Wallpaper W...</td>\n",
       "      <td>1</td>\n",
       "    </tr>\n",
       "    <tr>\n",
       "      <th>2</th>\n",
       "      <td>In Preview: Tools&amp;gt;Annotate&amp;gt;Signatures</td>\n",
       "      <td>1</td>\n",
       "    </tr>\n",
       "    <tr>\n",
       "      <th>3</th>\n",
       "      <td>I get they are trying to make it so your iPhon...</td>\n",
       "      <td>1</td>\n",
       "    </tr>\n",
       "    <tr>\n",
       "      <th>4</th>\n",
       "      <td>I just got the update today, Powerbeats Pro no...</td>\n",
       "      <td>1</td>\n",
       "    </tr>\n",
       "    <tr>\n",
       "      <th>...</th>\n",
       "      <td>...</td>\n",
       "      <td>...</td>\n",
       "    </tr>\n",
       "    <tr>\n",
       "      <th>1007</th>\n",
       "      <td>iPhone-maker Foxconn approved to reopen China ...</td>\n",
       "      <td>1</td>\n",
       "    </tr>\n",
       "    <tr>\n",
       "      <th>1008</th>\n",
       "      <td>Night Mode: Which phone camera comes out on top?</td>\n",
       "      <td>1</td>\n",
       "    </tr>\n",
       "    <tr>\n",
       "      <th>1009</th>\n",
       "      <td>iPhone 11 Pro: the best small phone available</td>\n",
       "      <td>1</td>\n",
       "    </tr>\n",
       "    <tr>\n",
       "      <th>1010</th>\n",
       "      <td>Worth the upgrade? We review the iPhone 11 and...</td>\n",
       "      <td>1</td>\n",
       "    </tr>\n",
       "    <tr>\n",
       "      <th>1011</th>\n",
       "      <td>Apple iPhone 12 mini just confirmed in new lea...</td>\n",
       "      <td>1</td>\n",
       "    </tr>\n",
       "  </tbody>\n",
       "</table>\n",
       "<p>1012 rows × 2 columns</p>\n",
       "</div>"
      ],
      "text/plain": [
       "                                                   text  target\n",
       "0     \\n\\nWelcome to the daily Tech Support thread f...       1\n",
       "1     ## Hello, /r/Apple, and welcome to Wallpaper W...       1\n",
       "2           In Preview: Tools&gt;Annotate&gt;Signatures       1\n",
       "3     I get they are trying to make it so your iPhon...       1\n",
       "4     I just got the update today, Powerbeats Pro no...       1\n",
       "...                                                 ...     ...\n",
       "1007  iPhone-maker Foxconn approved to reopen China ...       1\n",
       "1008   Night Mode: Which phone camera comes out on top?       1\n",
       "1009      iPhone 11 Pro: the best small phone available       1\n",
       "1010  Worth the upgrade? We review the iPhone 11 and...       1\n",
       "1011  Apple iPhone 12 mini just confirmed in new lea...       1\n",
       "\n",
       "[1012 rows x 2 columns]"
      ]
     },
     "execution_count": 728,
     "metadata": {},
     "output_type": "execute_result"
    }
   ],
   "source": [
    "combined_df[combined_df['target'] == 1]"
   ]
  },
  {
   "cell_type": "code",
   "execution_count": 729,
   "metadata": {},
   "outputs": [
    {
     "data": {
      "text/html": [
       "<div>\n",
       "<style scoped>\n",
       "    .dataframe tbody tr th:only-of-type {\n",
       "        vertical-align: middle;\n",
       "    }\n",
       "\n",
       "    .dataframe tbody tr th {\n",
       "        vertical-align: top;\n",
       "    }\n",
       "\n",
       "    .dataframe thead th {\n",
       "        text-align: right;\n",
       "    }\n",
       "</style>\n",
       "<table border=\"1\" class=\"dataframe\">\n",
       "  <thead>\n",
       "    <tr style=\"text-align: right;\">\n",
       "      <th></th>\n",
       "      <th>text</th>\n",
       "      <th>target</th>\n",
       "    </tr>\n",
       "  </thead>\n",
       "  <tbody>\n",
       "    <tr>\n",
       "      <th>1012</th>\n",
       "      <td>**Credits to the team at /r/PickAnAndroidForMe...</td>\n",
       "      <td>0</td>\n",
       "    </tr>\n",
       "    <tr>\n",
       "      <th>1013</th>\n",
       "      <td>The reason behind only AMOLED because LCD it's...</td>\n",
       "      <td>0</td>\n",
       "    </tr>\n",
       "    <tr>\n",
       "      <th>1014</th>\n",
       "      <td>I made this (somewhat satirical) app this week...</td>\n",
       "      <td>0</td>\n",
       "    </tr>\n",
       "    <tr>\n",
       "      <th>1015</th>\n",
       "      <td>As title says, Evleaks is saying Pixel 5 128GB...</td>\n",
       "      <td>0</td>\n",
       "    </tr>\n",
       "    <tr>\n",
       "      <th>1016</th>\n",
       "      <td>Not sure this is the right place to post this ...</td>\n",
       "      <td>0</td>\n",
       "    </tr>\n",
       "    <tr>\n",
       "      <th>...</th>\n",
       "      <td>...</td>\n",
       "      <td>...</td>\n",
       "    </tr>\n",
       "    <tr>\n",
       "      <th>1898</th>\n",
       "      <td>The Linux-based PinePhone is the most interest...</td>\n",
       "      <td>0</td>\n",
       "    </tr>\n",
       "    <tr>\n",
       "      <th>1899</th>\n",
       "      <td>LG Q92 5G full specifications &amp;amp; image leak...</td>\n",
       "      <td>0</td>\n",
       "    </tr>\n",
       "    <tr>\n",
       "      <th>1900</th>\n",
       "      <td>Epic is suing Google over Fortnite’s removal f...</td>\n",
       "      <td>0</td>\n",
       "    </tr>\n",
       "    <tr>\n",
       "      <th>1901</th>\n",
       "      <td>Nubia Red Magic 5S with 144Hz display and acti...</td>\n",
       "      <td>0</td>\n",
       "    </tr>\n",
       "    <tr>\n",
       "      <th>1902</th>\n",
       "      <td>Signal has desktop calling in beta now</td>\n",
       "      <td>0</td>\n",
       "    </tr>\n",
       "  </tbody>\n",
       "</table>\n",
       "<p>891 rows × 2 columns</p>\n",
       "</div>"
      ],
      "text/plain": [
       "                                                   text  target\n",
       "1012  **Credits to the team at /r/PickAnAndroidForMe...       0\n",
       "1013  The reason behind only AMOLED because LCD it's...       0\n",
       "1014  I made this (somewhat satirical) app this week...       0\n",
       "1015  As title says, Evleaks is saying Pixel 5 128GB...       0\n",
       "1016  Not sure this is the right place to post this ...       0\n",
       "...                                                 ...     ...\n",
       "1898  The Linux-based PinePhone is the most interest...       0\n",
       "1899  LG Q92 5G full specifications &amp; image leak...       0\n",
       "1900  Epic is suing Google over Fortnite’s removal f...       0\n",
       "1901  Nubia Red Magic 5S with 144Hz display and acti...       0\n",
       "1902             Signal has desktop calling in beta now       0\n",
       "\n",
       "[891 rows x 2 columns]"
      ]
     },
     "execution_count": 729,
     "metadata": {},
     "output_type": "execute_result"
    }
   ],
   "source": [
    "combined_df[combined_df['target'] == 0]"
   ]
  },
  {
   "cell_type": "code",
   "execution_count": 730,
   "metadata": {},
   "outputs": [
    {
     "data": {
      "text/plain": [
       "'## Hello, /r/Apple, and welcome to Wallpaper Wednesday!\\n\\nLiven up your desktop space or iOS device with some new UI scenery! Please respect the rules below and upload the highest quality image you can find.\\n\\nShare your wallpaper on the [r/Apple Discord](https://discord.gg/apple).\\n\\n-----\\n\\n**Rules**\\n\\n1. Please use a reputable image host like [imgur.com](http://imgur.com).\\n2. No NSFW posts.\\n3. Directly linked images only (albums are acceptable).\\n\\n-----\\n\\nThis thread will remain stickied for 24 hours. At that time, the thread will remain active, and an archives link will be posted in the sidebar for easy access. You may also find [archives here](https://www.reddit.com/r/apple/search?q=author%3Aautomoderator+wallpaper&amp;restrict_sr=on&amp;sort=new&amp;t=all).'"
      ]
     },
     "execution_count": 730,
     "metadata": {},
     "output_type": "execute_result"
    }
   ],
   "source": [
    "combined_df['text'].loc[0:1].all()"
   ]
  },
  {
   "cell_type": "code",
   "execution_count": 731,
   "metadata": {},
   "outputs": [
    {
     "data": {
      "text/plain": [
       "'Tangerine — your daily guide to self-care — has its biggest update to date aaand it’s featured by Apple on multiple countries!'"
      ]
     },
     "execution_count": 731,
     "metadata": {},
     "output_type": "execute_result"
    }
   ],
   "source": [
    "combined_df['text'].loc[362]"
   ]
  },
  {
   "cell_type": "code",
   "execution_count": 733,
   "metadata": {},
   "outputs": [
    {
     "data": {
      "text/plain": [
       "'**Credits to the team at /r/PickAnAndroidForMe for compiling this information:**\\n\\n* Home - https://www.reddit.com/r/PickAnAndroidForMe/wiki/index\\n\\n* Smartphones 101 - https://www.reddit.com/r/PickAnAndroidForMe/wiki/smartphones101\\n\\n* Top Phones - https://www.reddit.com/r/PickAnAndroidForMe/wiki/phones\\n\\n\\n***        \\nNote 1. Join us at /r/MoronicMondayAndroid, a sub serving as a repository for our retired weekly threads. Just pick any thread and Ctrl-F your way to wisdom! \\n\\nNote 2. Join our IRC, and Telegram chat-rooms! [Please see our wiki for instructions.](https://www.reddit.com/r/Android/wiki/index#wiki_.2Fr.2Fandroid_chat_rooms)'"
      ]
     },
     "execution_count": 733,
     "metadata": {},
     "output_type": "execute_result"
    }
   ],
   "source": [
    "combined_df['text'].loc[1012]"
   ]
  },
  {
   "cell_type": "code",
   "execution_count": 734,
   "metadata": {},
   "outputs": [],
   "source": [
    "def clean_text(text):\n",
    "    \n",
    "    # Make lowercase\n",
    "    text = text.lower()\n",
    "    \n",
    "    #remove text in [] and ()\n",
    "    text = re.sub(r'\\(.*?\\)', '', text)\n",
    "    text = re.sub(r'\\[.*?\\]', '', text)\n",
    "    \n",
    "    #Remove HTML special entities (e.g. &amp;)\n",
    "    text = re.sub(r'\\&\\w*;', '', text)\n",
    "    \n",
    "    #Remove hyperlinks\n",
    "    text = re.sub(r'https?:\\/\\/.*\\/\\w*', '', text)\n",
    "    \n",
    "    #keep words only.\n",
    "    text = re.sub('\\w*[0-9]\\w*', '', text)\n",
    "    \n",
    "    #remove \\n or /r\n",
    "    text = re.sub(r'\\n|\\/r', '', text)\n",
    "\n",
    "    # Remove punctuation and split 's, 't, 've with a space for filter\n",
    "    text = re.sub(r'[' + string.punctuation.replace('@', '') + ']+', ' ', text)\n",
    "    text = re.sub('[‘’“”…—]', '', text)\n",
    "    \n",
    "    # Remove words with 2 or fewer letters\n",
    "    text = re.sub(r'\\b\\w{1,2}\\b', '', text)\n",
    "    \n",
    "    # Remove whitespace (including new line characters)\n",
    "    text = re.sub(r'\\s\\s+', ' ', text)\n",
    "    \n",
    "    #Remove space remaining at the front and back of the text. \n",
    "    text = text.strip(' ') \n",
    "\n",
    "    #Remove characters beyond Basic Multilingual Plane (BMP) of Unicode:\n",
    "    text = ''.join(c for c in text if c <= '\\uFFFF') \n",
    "    \n",
    "    return text\n"
   ]
  },
  {
   "cell_type": "code",
   "execution_count": 735,
   "metadata": {},
   "outputs": [
    {
     "data": {
      "text/html": [
       "<div>\n",
       "<style scoped>\n",
       "    .dataframe tbody tr th:only-of-type {\n",
       "        vertical-align: middle;\n",
       "    }\n",
       "\n",
       "    .dataframe tbody tr th {\n",
       "        vertical-align: top;\n",
       "    }\n",
       "\n",
       "    .dataframe thead th {\n",
       "        text-align: right;\n",
       "    }\n",
       "</style>\n",
       "<table border=\"1\" class=\"dataframe\">\n",
       "  <thead>\n",
       "    <tr style=\"text-align: right;\">\n",
       "      <th></th>\n",
       "      <th>text</th>\n",
       "      <th>target</th>\n",
       "    </tr>\n",
       "  </thead>\n",
       "  <tbody>\n",
       "    <tr>\n",
       "      <th>0</th>\n",
       "      <td>welcome the daily tech support thread for appl...</td>\n",
       "      <td>1</td>\n",
       "    </tr>\n",
       "    <tr>\n",
       "      <th>1</th>\n",
       "      <td>hello apple and welcome wallpaper wednesday li...</td>\n",
       "      <td>1</td>\n",
       "    </tr>\n",
       "    <tr>\n",
       "      <th>2</th>\n",
       "      <td>preview toolsannotatesignatures</td>\n",
       "      <td>1</td>\n",
       "    </tr>\n",
       "    <tr>\n",
       "      <th>3</th>\n",
       "      <td>get they are trying make your iphone more cust...</td>\n",
       "      <td>1</td>\n",
       "    </tr>\n",
       "    <tr>\n",
       "      <th>4</th>\n",
       "      <td>just got the update today powerbeats pro now w...</td>\n",
       "      <td>1</td>\n",
       "    </tr>\n",
       "    <tr>\n",
       "      <th>...</th>\n",
       "      <td>...</td>\n",
       "      <td>...</td>\n",
       "    </tr>\n",
       "    <tr>\n",
       "      <th>1898</th>\n",
       "      <td>the linux based pinephone the most interesting...</td>\n",
       "      <td>0</td>\n",
       "    </tr>\n",
       "    <tr>\n",
       "      <th>1899</th>\n",
       "      <td>full specifications image leak fhd punch hole ...</td>\n",
       "      <td>0</td>\n",
       "    </tr>\n",
       "    <tr>\n",
       "      <th>1900</th>\n",
       "      <td>epic suing google over fortnites removal from ...</td>\n",
       "      <td>0</td>\n",
       "    </tr>\n",
       "    <tr>\n",
       "      <th>1901</th>\n",
       "      <td>nubia red magic with display and active coolin...</td>\n",
       "      <td>0</td>\n",
       "    </tr>\n",
       "    <tr>\n",
       "      <th>1902</th>\n",
       "      <td>signal has desktop calling beta now</td>\n",
       "      <td>0</td>\n",
       "    </tr>\n",
       "  </tbody>\n",
       "</table>\n",
       "<p>1903 rows × 2 columns</p>\n",
       "</div>"
      ],
      "text/plain": [
       "                                                   text  target\n",
       "0     welcome the daily tech support thread for appl...       1\n",
       "1     hello apple and welcome wallpaper wednesday li...       1\n",
       "2                       preview toolsannotatesignatures       1\n",
       "3     get they are trying make your iphone more cust...       1\n",
       "4     just got the update today powerbeats pro now w...       1\n",
       "...                                                 ...     ...\n",
       "1898  the linux based pinephone the most interesting...       0\n",
       "1899  full specifications image leak fhd punch hole ...       0\n",
       "1900  epic suing google over fortnites removal from ...       0\n",
       "1901  nubia red magic with display and active coolin...       0\n",
       "1902                signal has desktop calling beta now       0\n",
       "\n",
       "[1903 rows x 2 columns]"
      ]
     },
     "execution_count": 735,
     "metadata": {},
     "output_type": "execute_result"
    }
   ],
   "source": [
    "combined_df.text = combined_df.text.apply(clean_text)\n",
    "combined_df"
   ]
  },
  {
   "cell_type": "code",
   "execution_count": 736,
   "metadata": {},
   "outputs": [
    {
     "data": {
      "text/plain": [
       "'hello apple and welcome wallpaper wednesday liven your desktop space ios device with some new scenery please respect the rules below and upload the highest quality image you can find share your wallpaper the rules please use reputable image host like nsfw posts directly linked images only this thread will remain stickied for hours that time the thread will remain active and archives link will posted the sidebar for easy access you may also find'"
      ]
     },
     "execution_count": 736,
     "metadata": {},
     "output_type": "execute_result"
    }
   ],
   "source": [
    "combined_df['text'].loc[0:1].all()"
   ]
  },
  {
   "cell_type": "code",
   "execution_count": 737,
   "metadata": {},
   "outputs": [
    {
     "data": {
      "text/plain": [
       "(1903, 2)"
      ]
     },
     "execution_count": 737,
     "metadata": {},
     "output_type": "execute_result"
    }
   ],
   "source": [
    "combined_df.shape"
   ]
  },
  {
   "cell_type": "code",
   "execution_count": 738,
   "metadata": {},
   "outputs": [
    {
     "data": {
      "text/plain": [
       "Int64Index([48, 96, 104, 121, 136, 1017, 1034, 1154, 1160], dtype='int64')"
      ]
     },
     "execution_count": 738,
     "metadata": {},
     "output_type": "execute_result"
    }
   ],
   "source": [
    "#find empty texts\n",
    "empty_text = combined_df[combined_df['text'] == '']\n",
    "empty_text.index"
   ]
  },
  {
   "cell_type": "code",
   "execution_count": 739,
   "metadata": {},
   "outputs": [
    {
     "data": {
      "text/plain": [
       "(1894, 2)"
      ]
     },
     "execution_count": 739,
     "metadata": {},
     "output_type": "execute_result"
    }
   ],
   "source": [
    "#drop rows with empty values\n",
    "combined_df.drop(index= empty_text.index, inplace=True, axis =0 )\n",
    "#reset index\n",
    "combined_df.reset_index(drop=True, inplace=True)\n",
    "combined_df.shape"
   ]
  },
  {
   "cell_type": "code",
   "execution_count": 740,
   "metadata": {},
   "outputs": [
    {
     "data": {
      "text/plain": [
       "1894"
      ]
     },
     "execution_count": 740,
     "metadata": {},
     "output_type": "execute_result"
    }
   ],
   "source": [
    "len(combined_df.index)"
   ]
  },
  {
   "cell_type": "code",
   "execution_count": 741,
   "metadata": {},
   "outputs": [
    {
     "data": {
      "text/plain": [
       "'welcome the daily tech support thread for apple have question you need answered ask away please remember adhere our rules which can found the sidebar mobile join our discord and irc chat rooms for support note comments are sorted new for your convenience here all previous tech support threads this best viewed browser mobile type the searchbar'"
      ]
     },
     "execution_count": 741,
     "metadata": {},
     "output_type": "execute_result"
    }
   ],
   "source": [
    "combined_df['text'].loc[0]"
   ]
  },
  {
   "cell_type": "code",
   "execution_count": 742,
   "metadata": {},
   "outputs": [
    {
     "data": {
      "text/plain": [
       "'tangerine your daily guide self care has its biggest update date aaand its featured apple multiple countries'"
      ]
     },
     "execution_count": 742,
     "metadata": {},
     "output_type": "execute_result"
    }
   ],
   "source": [
    "combined_df['text'].loc[357]"
   ]
  },
  {
   "cell_type": "code",
   "execution_count": 743,
   "metadata": {},
   "outputs": [
    {
     "data": {
      "text/plain": [
       "'credits the team pickanandroidforme for compiling this information home smartphones top phones note join moronicmondayandroid sub serving repository for our retired weekly threads just pick any thread and ctrl your way wisdom note join our irc and telegram chat rooms'"
      ]
     },
     "execution_count": 743,
     "metadata": {},
     "output_type": "execute_result"
    }
   ],
   "source": [
    "combined_df['text'].loc[1007]"
   ]
  },
  {
   "cell_type": "code",
   "execution_count": 744,
   "metadata": {},
   "outputs": [
    {
     "data": {
      "text/html": [
       "<div>\n",
       "<style scoped>\n",
       "    .dataframe tbody tr th:only-of-type {\n",
       "        vertical-align: middle;\n",
       "    }\n",
       "\n",
       "    .dataframe tbody tr th {\n",
       "        vertical-align: top;\n",
       "    }\n",
       "\n",
       "    .dataframe thead th {\n",
       "        text-align: right;\n",
       "    }\n",
       "</style>\n",
       "<table border=\"1\" class=\"dataframe\">\n",
       "  <thead>\n",
       "    <tr style=\"text-align: right;\">\n",
       "      <th></th>\n",
       "      <th>text</th>\n",
       "      <th>target</th>\n",
       "    </tr>\n",
       "  </thead>\n",
       "  <tbody>\n",
       "    <tr>\n",
       "      <th>0</th>\n",
       "      <td>welcome the daily tech support thread for appl...</td>\n",
       "      <td>1</td>\n",
       "    </tr>\n",
       "    <tr>\n",
       "      <th>1</th>\n",
       "      <td>hello apple and welcome wallpaper wednesday li...</td>\n",
       "      <td>1</td>\n",
       "    </tr>\n",
       "    <tr>\n",
       "      <th>2</th>\n",
       "      <td>preview toolsannotatesignatures</td>\n",
       "      <td>1</td>\n",
       "    </tr>\n",
       "    <tr>\n",
       "      <th>3</th>\n",
       "      <td>get they are trying make your iphone more cust...</td>\n",
       "      <td>1</td>\n",
       "    </tr>\n",
       "    <tr>\n",
       "      <th>4</th>\n",
       "      <td>just got the update today powerbeats pro now w...</td>\n",
       "      <td>1</td>\n",
       "    </tr>\n",
       "    <tr>\n",
       "      <th>...</th>\n",
       "      <td>...</td>\n",
       "      <td>...</td>\n",
       "    </tr>\n",
       "    <tr>\n",
       "      <th>1002</th>\n",
       "      <td>iphone maker foxconn approved reopen china fac...</td>\n",
       "      <td>1</td>\n",
       "    </tr>\n",
       "    <tr>\n",
       "      <th>1003</th>\n",
       "      <td>night mode which phone camera comes out top</td>\n",
       "      <td>1</td>\n",
       "    </tr>\n",
       "    <tr>\n",
       "      <th>1004</th>\n",
       "      <td>iphone pro the best small phone available</td>\n",
       "      <td>1</td>\n",
       "    </tr>\n",
       "    <tr>\n",
       "      <th>1005</th>\n",
       "      <td>worth the upgrade review the iphone and iphone...</td>\n",
       "      <td>1</td>\n",
       "    </tr>\n",
       "    <tr>\n",
       "      <th>1006</th>\n",
       "      <td>apple iphone mini just confirmed new leak here...</td>\n",
       "      <td>1</td>\n",
       "    </tr>\n",
       "  </tbody>\n",
       "</table>\n",
       "<p>1007 rows × 2 columns</p>\n",
       "</div>"
      ],
      "text/plain": [
       "                                                   text  target\n",
       "0     welcome the daily tech support thread for appl...       1\n",
       "1     hello apple and welcome wallpaper wednesday li...       1\n",
       "2                       preview toolsannotatesignatures       1\n",
       "3     get they are trying make your iphone more cust...       1\n",
       "4     just got the update today powerbeats pro now w...       1\n",
       "...                                                 ...     ...\n",
       "1002  iphone maker foxconn approved reopen china fac...       1\n",
       "1003        night mode which phone camera comes out top       1\n",
       "1004          iphone pro the best small phone available       1\n",
       "1005  worth the upgrade review the iphone and iphone...       1\n",
       "1006  apple iphone mini just confirmed new leak here...       1\n",
       "\n",
       "[1007 rows x 2 columns]"
      ]
     },
     "execution_count": 744,
     "metadata": {},
     "output_type": "execute_result"
    }
   ],
   "source": [
    "combined_df[combined_df['target'] == 1]"
   ]
  },
  {
   "cell_type": "code",
   "execution_count": 745,
   "metadata": {},
   "outputs": [
    {
     "data": {
      "text/html": [
       "<div>\n",
       "<style scoped>\n",
       "    .dataframe tbody tr th:only-of-type {\n",
       "        vertical-align: middle;\n",
       "    }\n",
       "\n",
       "    .dataframe tbody tr th {\n",
       "        vertical-align: top;\n",
       "    }\n",
       "\n",
       "    .dataframe thead th {\n",
       "        text-align: right;\n",
       "    }\n",
       "</style>\n",
       "<table border=\"1\" class=\"dataframe\">\n",
       "  <thead>\n",
       "    <tr style=\"text-align: right;\">\n",
       "      <th></th>\n",
       "      <th>text</th>\n",
       "      <th>target</th>\n",
       "    </tr>\n",
       "  </thead>\n",
       "  <tbody>\n",
       "    <tr>\n",
       "      <th>1007</th>\n",
       "      <td>credits the team pickanandroidforme for compil...</td>\n",
       "      <td>0</td>\n",
       "    </tr>\n",
       "    <tr>\n",
       "      <th>1008</th>\n",
       "      <td>the reason behind only amoled because lcd not ...</td>\n",
       "      <td>0</td>\n",
       "    </tr>\n",
       "    <tr>\n",
       "      <th>1009</th>\n",
       "      <td>made this app this weekend after trying and fa...</td>\n",
       "      <td>0</td>\n",
       "    </tr>\n",
       "    <tr>\n",
       "      <th>1010</th>\n",
       "      <td>title says evleaks saying pixel cad which conv...</td>\n",
       "      <td>0</td>\n",
       "    </tr>\n",
       "    <tr>\n",
       "      <th>1011</th>\n",
       "      <td>not sure this the right place post this but he...</td>\n",
       "      <td>0</td>\n",
       "    </tr>\n",
       "    <tr>\n",
       "      <th>...</th>\n",
       "      <td>...</td>\n",
       "      <td>...</td>\n",
       "    </tr>\n",
       "    <tr>\n",
       "      <th>1889</th>\n",
       "      <td>the linux based pinephone the most interesting...</td>\n",
       "      <td>0</td>\n",
       "    </tr>\n",
       "    <tr>\n",
       "      <th>1890</th>\n",
       "      <td>full specifications image leak fhd punch hole ...</td>\n",
       "      <td>0</td>\n",
       "    </tr>\n",
       "    <tr>\n",
       "      <th>1891</th>\n",
       "      <td>epic suing google over fortnites removal from ...</td>\n",
       "      <td>0</td>\n",
       "    </tr>\n",
       "    <tr>\n",
       "      <th>1892</th>\n",
       "      <td>nubia red magic with display and active coolin...</td>\n",
       "      <td>0</td>\n",
       "    </tr>\n",
       "    <tr>\n",
       "      <th>1893</th>\n",
       "      <td>signal has desktop calling beta now</td>\n",
       "      <td>0</td>\n",
       "    </tr>\n",
       "  </tbody>\n",
       "</table>\n",
       "<p>887 rows × 2 columns</p>\n",
       "</div>"
      ],
      "text/plain": [
       "                                                   text  target\n",
       "1007  credits the team pickanandroidforme for compil...       0\n",
       "1008  the reason behind only amoled because lcd not ...       0\n",
       "1009  made this app this weekend after trying and fa...       0\n",
       "1010  title says evleaks saying pixel cad which conv...       0\n",
       "1011  not sure this the right place post this but he...       0\n",
       "...                                                 ...     ...\n",
       "1889  the linux based pinephone the most interesting...       0\n",
       "1890  full specifications image leak fhd punch hole ...       0\n",
       "1891  epic suing google over fortnites removal from ...       0\n",
       "1892  nubia red magic with display and active coolin...       0\n",
       "1893                signal has desktop calling beta now       0\n",
       "\n",
       "[887 rows x 2 columns]"
      ]
     },
     "execution_count": 745,
     "metadata": {},
     "output_type": "execute_result"
    }
   ],
   "source": [
    "combined_df[combined_df['target'] == 0]"
   ]
  },
  {
   "cell_type": "markdown",
   "metadata": {},
   "source": [
    "## Preprocessing and Modelling (with Evaluation)"
   ]
  },
  {
   "cell_type": "markdown",
   "metadata": {},
   "source": [
    "Is text data successfully converted to a matrix representation?<br>\n",
    "Are methods such as stop words, stemming, and lemmatization explored?<br>\n",
    "Does the student properly split and/or sample the data for validation/training purposes?<br>\n",
    "Does the student test and evaluate a variety of models to identify a production algorithm (AT MINIMUM: Bayes and one other model)?<br>\n",
    "Does the student defend their choice of production model relevant to the data at hand and the problem?<br>\n",
    "Does the student explain how the model works and evaluate its performance successes/downfalls?<br>"
   ]
  },
  {
   "cell_type": "code",
   "execution_count": 746,
   "metadata": {},
   "outputs": [],
   "source": [
    "combined_df.to_csv('../datasets/combined_df.csv', index=False)\n",
    "combined_df = pd.read_csv('../datasets/combined_df.csv')"
   ]
  },
  {
   "cell_type": "markdown",
   "metadata": {},
   "source": [
    "### Preprocessing"
   ]
  },
  {
   "cell_type": "markdown",
   "metadata": {},
   "source": [
    "#### Lemmatize"
   ]
  },
  {
   "cell_type": "code",
   "execution_count": 747,
   "metadata": {},
   "outputs": [],
   "source": [
    "lemmatizer = WordNetLemmatizer()"
   ]
  },
  {
   "cell_type": "code",
   "execution_count": 748,
   "metadata": {},
   "outputs": [],
   "source": [
    "def lemmatize_words(text):\n",
    "    words = text.split()\n",
    "    lemma_words = ''\n",
    "    for word in words:\n",
    "        lemma_words += (lemmatizer.lemmatize(word) + ' ')\n",
    "    return lemma_words"
   ]
  },
  {
   "cell_type": "code",
   "execution_count": 749,
   "metadata": {},
   "outputs": [],
   "source": [
    "combined_df['text'] = combined_df['text'].apply(lemmatize_words)\n"
   ]
  },
  {
   "cell_type": "code",
   "execution_count": 750,
   "metadata": {},
   "outputs": [
    {
     "data": {
      "text/plain": [
       "(1894, 2)"
      ]
     },
     "execution_count": 750,
     "metadata": {},
     "output_type": "execute_result"
    }
   ],
   "source": [
    "combined_df.shape"
   ]
  },
  {
   "cell_type": "code",
   "execution_count": 751,
   "metadata": {},
   "outputs": [
    {
     "data": {
      "text/html": [
       "<div>\n",
       "<style scoped>\n",
       "    .dataframe tbody tr th:only-of-type {\n",
       "        vertical-align: middle;\n",
       "    }\n",
       "\n",
       "    .dataframe tbody tr th {\n",
       "        vertical-align: top;\n",
       "    }\n",
       "\n",
       "    .dataframe thead th {\n",
       "        text-align: right;\n",
       "    }\n",
       "</style>\n",
       "<table border=\"1\" class=\"dataframe\">\n",
       "  <thead>\n",
       "    <tr style=\"text-align: right;\">\n",
       "      <th></th>\n",
       "      <th>text</th>\n",
       "      <th>target</th>\n",
       "    </tr>\n",
       "  </thead>\n",
       "  <tbody>\n",
       "    <tr>\n",
       "      <th>1007</th>\n",
       "      <td>credit the team pickanandroidforme for compili...</td>\n",
       "      <td>0</td>\n",
       "    </tr>\n",
       "    <tr>\n",
       "      <th>1008</th>\n",
       "      <td>the reason behind only amoled because lcd not ...</td>\n",
       "      <td>0</td>\n",
       "    </tr>\n",
       "    <tr>\n",
       "      <th>1009</th>\n",
       "      <td>made this app this weekend after trying and fa...</td>\n",
       "      <td>0</td>\n",
       "    </tr>\n",
       "    <tr>\n",
       "      <th>1010</th>\n",
       "      <td>title say evleaks saying pixel cad which conve...</td>\n",
       "      <td>0</td>\n",
       "    </tr>\n",
       "    <tr>\n",
       "      <th>1011</th>\n",
       "      <td>not sure this the right place post this but he...</td>\n",
       "      <td>0</td>\n",
       "    </tr>\n",
       "    <tr>\n",
       "      <th>...</th>\n",
       "      <td>...</td>\n",
       "      <td>...</td>\n",
       "    </tr>\n",
       "    <tr>\n",
       "      <th>1889</th>\n",
       "      <td>the linux based pinephone the most interesting...</td>\n",
       "      <td>0</td>\n",
       "    </tr>\n",
       "    <tr>\n",
       "      <th>1890</th>\n",
       "      <td>full specification image leak fhd punch hole r...</td>\n",
       "      <td>0</td>\n",
       "    </tr>\n",
       "    <tr>\n",
       "      <th>1891</th>\n",
       "      <td>epic suing google over fortnites removal from ...</td>\n",
       "      <td>0</td>\n",
       "    </tr>\n",
       "    <tr>\n",
       "      <th>1892</th>\n",
       "      <td>nubia red magic with display and active coolin...</td>\n",
       "      <td>0</td>\n",
       "    </tr>\n",
       "    <tr>\n",
       "      <th>1893</th>\n",
       "      <td>signal ha desktop calling beta now</td>\n",
       "      <td>0</td>\n",
       "    </tr>\n",
       "  </tbody>\n",
       "</table>\n",
       "<p>887 rows × 2 columns</p>\n",
       "</div>"
      ],
      "text/plain": [
       "                                                   text  target\n",
       "1007  credit the team pickanandroidforme for compili...       0\n",
       "1008  the reason behind only amoled because lcd not ...       0\n",
       "1009  made this app this weekend after trying and fa...       0\n",
       "1010  title say evleaks saying pixel cad which conve...       0\n",
       "1011  not sure this the right place post this but he...       0\n",
       "...                                                 ...     ...\n",
       "1889  the linux based pinephone the most interesting...       0\n",
       "1890  full specification image leak fhd punch hole r...       0\n",
       "1891  epic suing google over fortnites removal from ...       0\n",
       "1892  nubia red magic with display and active coolin...       0\n",
       "1893                signal ha desktop calling beta now        0\n",
       "\n",
       "[887 rows x 2 columns]"
      ]
     },
     "execution_count": 751,
     "metadata": {},
     "output_type": "execute_result"
    }
   ],
   "source": [
    "combined_df[combined_df['target'] == 0]"
   ]
  },
  {
   "cell_type": "code",
   "execution_count": 752,
   "metadata": {},
   "outputs": [
    {
     "data": {
      "text/html": [
       "<div>\n",
       "<style scoped>\n",
       "    .dataframe tbody tr th:only-of-type {\n",
       "        vertical-align: middle;\n",
       "    }\n",
       "\n",
       "    .dataframe tbody tr th {\n",
       "        vertical-align: top;\n",
       "    }\n",
       "\n",
       "    .dataframe thead th {\n",
       "        text-align: right;\n",
       "    }\n",
       "</style>\n",
       "<table border=\"1\" class=\"dataframe\">\n",
       "  <thead>\n",
       "    <tr style=\"text-align: right;\">\n",
       "      <th></th>\n",
       "      <th>text</th>\n",
       "      <th>target</th>\n",
       "    </tr>\n",
       "  </thead>\n",
       "  <tbody>\n",
       "    <tr>\n",
       "      <th>0</th>\n",
       "      <td>welcome the daily tech support thread for appl...</td>\n",
       "      <td>1</td>\n",
       "    </tr>\n",
       "    <tr>\n",
       "      <th>1</th>\n",
       "      <td>hello apple and welcome wallpaper wednesday li...</td>\n",
       "      <td>1</td>\n",
       "    </tr>\n",
       "    <tr>\n",
       "      <th>2</th>\n",
       "      <td>preview toolsannotatesignatures</td>\n",
       "      <td>1</td>\n",
       "    </tr>\n",
       "    <tr>\n",
       "      <th>3</th>\n",
       "      <td>get they are trying make your iphone more cust...</td>\n",
       "      <td>1</td>\n",
       "    </tr>\n",
       "    <tr>\n",
       "      <th>4</th>\n",
       "      <td>just got the update today powerbeats pro now w...</td>\n",
       "      <td>1</td>\n",
       "    </tr>\n",
       "    <tr>\n",
       "      <th>...</th>\n",
       "      <td>...</td>\n",
       "      <td>...</td>\n",
       "    </tr>\n",
       "    <tr>\n",
       "      <th>1002</th>\n",
       "      <td>iphone maker foxconn approved reopen china fac...</td>\n",
       "      <td>1</td>\n",
       "    </tr>\n",
       "    <tr>\n",
       "      <th>1003</th>\n",
       "      <td>night mode which phone camera come out top</td>\n",
       "      <td>1</td>\n",
       "    </tr>\n",
       "    <tr>\n",
       "      <th>1004</th>\n",
       "      <td>iphone pro the best small phone available</td>\n",
       "      <td>1</td>\n",
       "    </tr>\n",
       "    <tr>\n",
       "      <th>1005</th>\n",
       "      <td>worth the upgrade review the iphone and iphone...</td>\n",
       "      <td>1</td>\n",
       "    </tr>\n",
       "    <tr>\n",
       "      <th>1006</th>\n",
       "      <td>apple iphone mini just confirmed new leak here...</td>\n",
       "      <td>1</td>\n",
       "    </tr>\n",
       "  </tbody>\n",
       "</table>\n",
       "<p>1007 rows × 2 columns</p>\n",
       "</div>"
      ],
      "text/plain": [
       "                                                   text  target\n",
       "0     welcome the daily tech support thread for appl...       1\n",
       "1     hello apple and welcome wallpaper wednesday li...       1\n",
       "2                      preview toolsannotatesignatures        1\n",
       "3     get they are trying make your iphone more cust...       1\n",
       "4     just got the update today powerbeats pro now w...       1\n",
       "...                                                 ...     ...\n",
       "1002  iphone maker foxconn approved reopen china fac...       1\n",
       "1003        night mode which phone camera come out top        1\n",
       "1004         iphone pro the best small phone available        1\n",
       "1005  worth the upgrade review the iphone and iphone...       1\n",
       "1006  apple iphone mini just confirmed new leak here...       1\n",
       "\n",
       "[1007 rows x 2 columns]"
      ]
     },
     "execution_count": 752,
     "metadata": {},
     "output_type": "execute_result"
    }
   ],
   "source": [
    "combined_df[combined_df['target'] == 1]"
   ]
  },
  {
   "cell_type": "code",
   "execution_count": 753,
   "metadata": {},
   "outputs": [],
   "source": [
    "combined_df.to_csv('../datasets/combined_df.csv', index=False)"
   ]
  },
  {
   "cell_type": "code",
   "execution_count": 759,
   "metadata": {},
   "outputs": [],
   "source": [
    "from wordcloud import WordCloud, STOPWORDS\n",
    "stopwords = set(STOPWORDS)\n",
    "def show_wordcloud(data, title = None):\n",
    "    wordcloud = WordCloud(\n",
    "        background_color='white',\n",
    "        stopwords = stopwords,\n",
    "        max_words=200,\n",
    "        max_font_size=30, \n",
    "        scale=3,\n",
    "        random_state=22\n",
    "    ).generate(str(data))\n",
    "\n",
    "    fig = plt.figure(1, figsize=(12, 12))\n",
    "    plt.axis('off')\n",
    "    if title: \n",
    "        fig.suptitle(title, fontsize=20)\n",
    "        fig.subplots_adjust(top=2.3)\n",
    "\n",
    "    plt.imshow(wordcloud)\n",
    "    plt.show()"
   ]
  },
  {
   "cell_type": "code",
   "execution_count": 760,
   "metadata": {},
   "outputs": [
    {
     "data": {
      "image/png": "[encoded data removed]",
      "text/plain": [
       "<Figure size 864x864 with 1 Axes>"
      ]
     },
     "metadata": {
      "needs_background": "light"
     },
     "output_type": "display_data"
    }
   ],
   "source": [
    "show_wordcloud(combined_df[combined_df['target'] == 1])"
   ]
  },
  {
   "cell_type": "code",
   "execution_count": 761,
   "metadata": {},
   "outputs": [
    {
     "data": {
      "image/png": "[encoded data removed]",
      "text/plain": [
       "<Figure size 864x864 with 1 Axes>"
      ]
     },
     "metadata": {
      "needs_background": "light"
     },
     "output_type": "display_data"
    }
   ],
   "source": [
    "show_wordcloud(combined_df[combined_df['target'] == 0])"
   ]
  },
  {
   "cell_type": "markdown",
   "metadata": {},
   "source": [
    "#### CountVectoriser"
   ]
  },
  {
   "cell_type": "code",
   "execution_count": 762,
   "metadata": {},
   "outputs": [],
   "source": [
    "#try findall and drop cells"
   ]
  },
  {
   "cell_type": "code",
   "execution_count": 763,
   "metadata": {},
   "outputs": [
    {
     "data": {
      "text/html": [
       "<div>\n",
       "<style scoped>\n",
       "    .dataframe tbody tr th:only-of-type {\n",
       "        vertical-align: middle;\n",
       "    }\n",
       "\n",
       "    .dataframe tbody tr th {\n",
       "        vertical-align: top;\n",
       "    }\n",
       "\n",
       "    .dataframe thead th {\n",
       "        text-align: right;\n",
       "    }\n",
       "</style>\n",
       "<table border=\"1\" class=\"dataframe\">\n",
       "  <thead>\n",
       "    <tr style=\"text-align: right;\">\n",
       "      <th></th>\n",
       "      <th>aaand</th>\n",
       "      <th>aac</th>\n",
       "      <th>aapl</th>\n",
       "      <th>aawireless</th>\n",
       "      <th>abandon</th>\n",
       "      <th>abandonware</th>\n",
       "      <th>abc</th>\n",
       "      <th>abercrombie</th>\n",
       "      <th>ability</th>\n",
       "      <th>able</th>\n",
       "      <th>...</th>\n",
       "      <th>zero</th>\n",
       "      <th>zigbee</th>\n",
       "      <th>zomg</th>\n",
       "      <th>zone</th>\n",
       "      <th>zoom</th>\n",
       "      <th>zoomed</th>\n",
       "      <th>zte</th>\n",
       "      <th>ztes</th>\n",
       "      <th>zuckerberg</th>\n",
       "      <th>zune</th>\n",
       "    </tr>\n",
       "  </thead>\n",
       "  <tbody>\n",
       "    <tr>\n",
       "      <th>0</th>\n",
       "      <td>0</td>\n",
       "      <td>0</td>\n",
       "      <td>0</td>\n",
       "      <td>0</td>\n",
       "      <td>0</td>\n",
       "      <td>0</td>\n",
       "      <td>0</td>\n",
       "      <td>0</td>\n",
       "      <td>0</td>\n",
       "      <td>0</td>\n",
       "      <td>...</td>\n",
       "      <td>0</td>\n",
       "      <td>0</td>\n",
       "      <td>0</td>\n",
       "      <td>0</td>\n",
       "      <td>0</td>\n",
       "      <td>0</td>\n",
       "      <td>0</td>\n",
       "      <td>0</td>\n",
       "      <td>0</td>\n",
       "      <td>0</td>\n",
       "    </tr>\n",
       "    <tr>\n",
       "      <th>1</th>\n",
       "      <td>0</td>\n",
       "      <td>0</td>\n",
       "      <td>0</td>\n",
       "      <td>0</td>\n",
       "      <td>0</td>\n",
       "      <td>0</td>\n",
       "      <td>0</td>\n",
       "      <td>0</td>\n",
       "      <td>0</td>\n",
       "      <td>0</td>\n",
       "      <td>...</td>\n",
       "      <td>0</td>\n",
       "      <td>0</td>\n",
       "      <td>0</td>\n",
       "      <td>0</td>\n",
       "      <td>0</td>\n",
       "      <td>0</td>\n",
       "      <td>0</td>\n",
       "      <td>0</td>\n",
       "      <td>0</td>\n",
       "      <td>0</td>\n",
       "    </tr>\n",
       "    <tr>\n",
       "      <th>2</th>\n",
       "      <td>0</td>\n",
       "      <td>0</td>\n",
       "      <td>0</td>\n",
       "      <td>0</td>\n",
       "      <td>0</td>\n",
       "      <td>0</td>\n",
       "      <td>0</td>\n",
       "      <td>0</td>\n",
       "      <td>0</td>\n",
       "      <td>0</td>\n",
       "      <td>...</td>\n",
       "      <td>0</td>\n",
       "      <td>0</td>\n",
       "      <td>0</td>\n",
       "      <td>0</td>\n",
       "      <td>0</td>\n",
       "      <td>0</td>\n",
       "      <td>0</td>\n",
       "      <td>0</td>\n",
       "      <td>0</td>\n",
       "      <td>0</td>\n",
       "    </tr>\n",
       "    <tr>\n",
       "      <th>3</th>\n",
       "      <td>0</td>\n",
       "      <td>0</td>\n",
       "      <td>0</td>\n",
       "      <td>0</td>\n",
       "      <td>0</td>\n",
       "      <td>0</td>\n",
       "      <td>0</td>\n",
       "      <td>0</td>\n",
       "      <td>0</td>\n",
       "      <td>0</td>\n",
       "      <td>...</td>\n",
       "      <td>0</td>\n",
       "      <td>0</td>\n",
       "      <td>0</td>\n",
       "      <td>0</td>\n",
       "      <td>0</td>\n",
       "      <td>0</td>\n",
       "      <td>0</td>\n",
       "      <td>0</td>\n",
       "      <td>0</td>\n",
       "      <td>0</td>\n",
       "    </tr>\n",
       "    <tr>\n",
       "      <th>4</th>\n",
       "      <td>0</td>\n",
       "      <td>0</td>\n",
       "      <td>0</td>\n",
       "      <td>0</td>\n",
       "      <td>0</td>\n",
       "      <td>0</td>\n",
       "      <td>0</td>\n",
       "      <td>0</td>\n",
       "      <td>0</td>\n",
       "      <td>0</td>\n",
       "      <td>...</td>\n",
       "      <td>0</td>\n",
       "      <td>0</td>\n",
       "      <td>0</td>\n",
       "      <td>0</td>\n",
       "      <td>0</td>\n",
       "      <td>0</td>\n",
       "      <td>0</td>\n",
       "      <td>0</td>\n",
       "      <td>0</td>\n",
       "      <td>0</td>\n",
       "    </tr>\n",
       "    <tr>\n",
       "      <th>...</th>\n",
       "      <td>...</td>\n",
       "      <td>...</td>\n",
       "      <td>...</td>\n",
       "      <td>...</td>\n",
       "      <td>...</td>\n",
       "      <td>...</td>\n",
       "      <td>...</td>\n",
       "      <td>...</td>\n",
       "      <td>...</td>\n",
       "      <td>...</td>\n",
       "      <td>...</td>\n",
       "      <td>...</td>\n",
       "      <td>...</td>\n",
       "      <td>...</td>\n",
       "      <td>...</td>\n",
       "      <td>...</td>\n",
       "      <td>...</td>\n",
       "      <td>...</td>\n",
       "      <td>...</td>\n",
       "      <td>...</td>\n",
       "      <td>...</td>\n",
       "    </tr>\n",
       "    <tr>\n",
       "      <th>1889</th>\n",
       "      <td>0</td>\n",
       "      <td>0</td>\n",
       "      <td>0</td>\n",
       "      <td>0</td>\n",
       "      <td>0</td>\n",
       "      <td>0</td>\n",
       "      <td>0</td>\n",
       "      <td>0</td>\n",
       "      <td>0</td>\n",
       "      <td>0</td>\n",
       "      <td>...</td>\n",
       "      <td>0</td>\n",
       "      <td>0</td>\n",
       "      <td>0</td>\n",
       "      <td>0</td>\n",
       "      <td>0</td>\n",
       "      <td>0</td>\n",
       "      <td>0</td>\n",
       "      <td>0</td>\n",
       "      <td>0</td>\n",
       "      <td>0</td>\n",
       "    </tr>\n",
       "    <tr>\n",
       "      <th>1890</th>\n",
       "      <td>0</td>\n",
       "      <td>0</td>\n",
       "      <td>0</td>\n",
       "      <td>0</td>\n",
       "      <td>0</td>\n",
       "      <td>0</td>\n",
       "      <td>0</td>\n",
       "      <td>0</td>\n",
       "      <td>0</td>\n",
       "      <td>0</td>\n",
       "      <td>...</td>\n",
       "      <td>0</td>\n",
       "      <td>0</td>\n",
       "      <td>0</td>\n",
       "      <td>0</td>\n",
       "      <td>0</td>\n",
       "      <td>0</td>\n",
       "      <td>0</td>\n",
       "      <td>0</td>\n",
       "      <td>0</td>\n",
       "      <td>0</td>\n",
       "    </tr>\n",
       "    <tr>\n",
       "      <th>1891</th>\n",
       "      <td>0</td>\n",
       "      <td>0</td>\n",
       "      <td>0</td>\n",
       "      <td>0</td>\n",
       "      <td>0</td>\n",
       "      <td>0</td>\n",
       "      <td>0</td>\n",
       "      <td>0</td>\n",
       "      <td>0</td>\n",
       "      <td>0</td>\n",
       "      <td>...</td>\n",
       "      <td>0</td>\n",
       "      <td>0</td>\n",
       "      <td>0</td>\n",
       "      <td>0</td>\n",
       "      <td>0</td>\n",
       "      <td>0</td>\n",
       "      <td>0</td>\n",
       "      <td>0</td>\n",
       "      <td>0</td>\n",
       "      <td>0</td>\n",
       "    </tr>\n",
       "    <tr>\n",
       "      <th>1892</th>\n",
       "      <td>0</td>\n",
       "      <td>0</td>\n",
       "      <td>0</td>\n",
       "      <td>0</td>\n",
       "      <td>0</td>\n",
       "      <td>0</td>\n",
       "      <td>0</td>\n",
       "      <td>0</td>\n",
       "      <td>0</td>\n",
       "      <td>0</td>\n",
       "      <td>...</td>\n",
       "      <td>0</td>\n",
       "      <td>0</td>\n",
       "      <td>0</td>\n",
       "      <td>0</td>\n",
       "      <td>0</td>\n",
       "      <td>0</td>\n",
       "      <td>0</td>\n",
       "      <td>0</td>\n",
       "      <td>0</td>\n",
       "      <td>0</td>\n",
       "    </tr>\n",
       "    <tr>\n",
       "      <th>1893</th>\n",
       "      <td>0</td>\n",
       "      <td>0</td>\n",
       "      <td>0</td>\n",
       "      <td>0</td>\n",
       "      <td>0</td>\n",
       "      <td>0</td>\n",
       "      <td>0</td>\n",
       "      <td>0</td>\n",
       "      <td>0</td>\n",
       "      <td>0</td>\n",
       "      <td>...</td>\n",
       "      <td>0</td>\n",
       "      <td>0</td>\n",
       "      <td>0</td>\n",
       "      <td>0</td>\n",
       "      <td>0</td>\n",
       "      <td>0</td>\n",
       "      <td>0</td>\n",
       "      <td>0</td>\n",
       "      <td>0</td>\n",
       "      <td>0</td>\n",
       "    </tr>\n",
       "  </tbody>\n",
       "</table>\n",
       "<p>1894 rows × 5877 columns</p>\n",
       "</div>"
      ],
      "text/plain": [
       "      aaand  aac  aapl  aawireless  abandon  abandonware  abc  abercrombie  \\\n",
       "0         0    0     0           0        0            0    0            0   \n",
       "1         0    0     0           0        0            0    0            0   \n",
       "2         0    0     0           0        0            0    0            0   \n",
       "3         0    0     0           0        0            0    0            0   \n",
       "4         0    0     0           0        0            0    0            0   \n",
       "...     ...  ...   ...         ...      ...          ...  ...          ...   \n",
       "1889      0    0     0           0        0            0    0            0   \n",
       "1890      0    0     0           0        0            0    0            0   \n",
       "1891      0    0     0           0        0            0    0            0   \n",
       "1892      0    0     0           0        0            0    0            0   \n",
       "1893      0    0     0           0        0            0    0            0   \n",
       "\n",
       "      ability  able  ...  zero  zigbee  zomg  zone  zoom  zoomed  zte  ztes  \\\n",
       "0           0     0  ...     0       0     0     0     0       0    0     0   \n",
       "1           0     0  ...     0       0     0     0     0       0    0     0   \n",
       "2           0     0  ...     0       0     0     0     0       0    0     0   \n",
       "3           0     0  ...     0       0     0     0     0       0    0     0   \n",
       "4           0     0  ...     0       0     0     0     0       0    0     0   \n",
       "...       ...   ...  ...   ...     ...   ...   ...   ...     ...  ...   ...   \n",
       "1889        0     0  ...     0       0     0     0     0       0    0     0   \n",
       "1890        0     0  ...     0       0     0     0     0       0    0     0   \n",
       "1891        0     0  ...     0       0     0     0     0       0    0     0   \n",
       "1892        0     0  ...     0       0     0     0     0       0    0     0   \n",
       "1893        0     0  ...     0       0     0     0     0       0    0     0   \n",
       "\n",
       "      zuckerberg  zune  \n",
       "0              0     0  \n",
       "1              0     0  \n",
       "2              0     0  \n",
       "3              0     0  \n",
       "4              0     0  \n",
       "...          ...   ...  \n",
       "1889           0     0  \n",
       "1890           0     0  \n",
       "1891           0     0  \n",
       "1892           0     0  \n",
       "1893           0     0  \n",
       "\n",
       "[1894 rows x 5877 columns]"
      ]
     },
     "execution_count": 763,
     "metadata": {},
     "output_type": "execute_result"
    }
   ],
   "source": [
    "#We are going to create a matrix using CountVectorizer\n",
    "#also exclude common English stop words\n",
    "all_text = combined_df['text']\n",
    "cvec = CountVectorizer(stop_words='english')\n",
    "combined_cv = cvec.fit_transform(all_text)\n",
    "\n",
    "cv_df = pd.DataFrame(combined_cv.todense(),\n",
    "                   columns=cvec.get_feature_names())\n",
    "cv_df"
   ]
  },
  {
   "cell_type": "code",
   "execution_count": null,
   "metadata": {},
   "outputs": [],
   "source": []
  },
  {
   "cell_type": "code",
   "execution_count": 764,
   "metadata": {},
   "outputs": [],
   "source": [
    "n_words = 40\n",
    "words = list(cv_df.sum().sort_values(ascending=False)[:n_words].index)\n",
    "#correspond to correct target variable\n",
    "cv_df['target'] = combined_df['target']\n"
   ]
  },
  {
   "cell_type": "code",
   "execution_count": 765,
   "metadata": {},
   "outputs": [
    {
     "data": {
      "text/html": [
       "<div>\n",
       "<style scoped>\n",
       "    .dataframe tbody tr th:only-of-type {\n",
       "        vertical-align: middle;\n",
       "    }\n",
       "\n",
       "    .dataframe tbody tr th {\n",
       "        vertical-align: top;\n",
       "    }\n",
       "\n",
       "    .dataframe thead th {\n",
       "        text-align: right;\n",
       "    }\n",
       "</style>\n",
       "<table border=\"1\" class=\"dataframe\">\n",
       "  <thead>\n",
       "    <tr style=\"text-align: right;\">\n",
       "      <th></th>\n",
       "      <th>apple</th>\n",
       "      <th>app</th>\n",
       "      <th>phone</th>\n",
       "      <th>android</th>\n",
       "      <th>new</th>\n",
       "      <th>io</th>\n",
       "      <th>just</th>\n",
       "      <th>like</th>\n",
       "      <th>iphone</th>\n",
       "      <th>wa</th>\n",
       "      <th>...</th>\n",
       "      <th>video</th>\n",
       "      <th>camera</th>\n",
       "      <th>note</th>\n",
       "      <th>using</th>\n",
       "      <th>year</th>\n",
       "      <th>really</th>\n",
       "      <th>widget</th>\n",
       "      <th>update</th>\n",
       "      <th>know</th>\n",
       "      <th>way</th>\n",
       "    </tr>\n",
       "    <tr>\n",
       "      <th>target</th>\n",
       "      <th></th>\n",
       "      <th></th>\n",
       "      <th></th>\n",
       "      <th></th>\n",
       "      <th></th>\n",
       "      <th></th>\n",
       "      <th></th>\n",
       "      <th></th>\n",
       "      <th></th>\n",
       "      <th></th>\n",
       "      <th></th>\n",
       "      <th></th>\n",
       "      <th></th>\n",
       "      <th></th>\n",
       "      <th></th>\n",
       "      <th></th>\n",
       "      <th></th>\n",
       "      <th></th>\n",
       "      <th></th>\n",
       "      <th></th>\n",
       "      <th></th>\n",
       "    </tr>\n",
       "  </thead>\n",
       "  <tbody>\n",
       "    <tr>\n",
       "      <th>0</th>\n",
       "      <td>62</td>\n",
       "      <td>133</td>\n",
       "      <td>303</td>\n",
       "      <td>304</td>\n",
       "      <td>95</td>\n",
       "      <td>18</td>\n",
       "      <td>115</td>\n",
       "      <td>125</td>\n",
       "      <td>58</td>\n",
       "      <td>124</td>\n",
       "      <td>...</td>\n",
       "      <td>48</td>\n",
       "      <td>100</td>\n",
       "      <td>97</td>\n",
       "      <td>69</td>\n",
       "      <td>63</td>\n",
       "      <td>51</td>\n",
       "      <td>27</td>\n",
       "      <td>51</td>\n",
       "      <td>37</td>\n",
       "      <td>56</td>\n",
       "    </tr>\n",
       "    <tr>\n",
       "      <th>1</th>\n",
       "      <td>725</td>\n",
       "      <td>302</td>\n",
       "      <td>74</td>\n",
       "      <td>28</td>\n",
       "      <td>206</td>\n",
       "      <td>252</td>\n",
       "      <td>150</td>\n",
       "      <td>112</td>\n",
       "      <td>178</td>\n",
       "      <td>98</td>\n",
       "      <td>...</td>\n",
       "      <td>76</td>\n",
       "      <td>22</td>\n",
       "      <td>21</td>\n",
       "      <td>48</td>\n",
       "      <td>54</td>\n",
       "      <td>62</td>\n",
       "      <td>85</td>\n",
       "      <td>61</td>\n",
       "      <td>71</td>\n",
       "      <td>47</td>\n",
       "    </tr>\n",
       "  </tbody>\n",
       "</table>\n",
       "<p>2 rows × 40 columns</p>\n",
       "</div>"
      ],
      "text/plain": [
       "        apple  app  phone  android  new   io  just  like  iphone   wa  ...  \\\n",
       "target                                                                 ...   \n",
       "0          62  133    303      304   95   18   115   125      58  124  ...   \n",
       "1         725  302     74       28  206  252   150   112     178   98  ...   \n",
       "\n",
       "        video  camera  note  using  year  really  widget  update  know  way  \n",
       "target                                                                       \n",
       "0          48     100    97     69    63      51      27      51    37   56  \n",
       "1          76      22    21     48    54      62      85      61    71   47  \n",
       "\n",
       "[2 rows x 40 columns]"
      ]
     },
     "execution_count": 765,
     "metadata": {},
     "output_type": "execute_result"
    }
   ],
   "source": [
    "ranked_words = cv_df.groupby('target').sum()[words]\n",
    "ranked_words.head()"
   ]
  },
  {
   "cell_type": "raw",
   "metadata": {},
   "source": [
    "words_cape = words\n",
    "words_count_cape = cv_train_small.loc[1]\n",
    "words_gv = words\n",
    "words_count_gv = cv_train_small.loc[0]\n",
    "width = 0.35       # the width of the bars\n",
    "ind = np.arange(n_words)\n",
    "\n",
    "fig, ax = plt.subplots(figsize=(15, 10))\n",
    "rects1 = ax.bar(ind, words_count_cape, width, color=colors[0])\n",
    "rects2 = ax.bar(ind+width,words_count_gv, width, color=colors[5])\n",
    "\n",
    "# add some text for labels, title and axes ticks\n",
    "ax.set_ylabel('Counts')\n",
    "ax.set_title('Counts by word and reddit')\n",
    "ax.set_xticks(ind + width / 2)\n",
    "ax.set_xticklabels(words,rotation='vertical')\n",
    "\n",
    "ax.set_ylim(0,80)\n",
    "\n",
    "ax.legend((rects1[0], rects2[0]), ('Cape Cod', 'Galveston'))\n",
    "\n",
    "plt.show()"
   ]
  },
  {
   "cell_type": "code",
   "execution_count": 773,
   "metadata": {},
   "outputs": [
    {
     "data": {
      "text/plain": [
       "target     1007\n",
       "apple       787\n",
       "app         435\n",
       "phone       377\n",
       "android     332\n",
       "new         301\n",
       "io          270\n",
       "just        265\n",
       "like        237\n",
       "iphone      236\n",
       "wa          222\n",
       "google      219\n",
       "pro         215\n",
       "device      203\n",
       "ha          188\n",
       "samsung     185\n",
       "feature     178\n",
       "support     171\n",
       "watch       170\n",
       "ipad        165\n",
       "use         161\n",
       "time        159\n",
       "apps        159\n",
       "want        152\n",
       "screen      147\n",
       "make        140\n",
       "pixel       139\n",
       "galaxy      130\n",
       "work        130\n",
       "store       130\n",
       "dtype: int64"
      ]
     },
     "execution_count": 773,
     "metadata": {},
     "output_type": "execute_result"
    }
   ],
   "source": [
    "cv_df.sum().sort_values(ascending=False).head(30)"
   ]
  },
  {
   "cell_type": "markdown",
   "metadata": {},
   "source": [
    "<b>Evaluation:<br></b>\n",
    "Does the student accurately identify and explain the baseline score?<br>\n",
    "Does the student select and use metrics relevant to the problem objective?<br>\n",
    "Does the student interpret the results of their model for purposes of inference?<br>\n",
    "Is domain knowledge demonstrated when interpreting results?<br>\n",
    "Does the student provide appropriate interpretation with regards to descriptive and inferential statistics?\n"
   ]
  },
  {
   "cell_type": "code",
   "execution_count": null,
   "metadata": {},
   "outputs": [],
   "source": []
  },
  {
   "cell_type": "code",
   "execution_count": null,
   "metadata": {},
   "outputs": [],
   "source": []
  },
  {
   "cell_type": "code",
   "execution_count": null,
   "metadata": {},
   "outputs": [],
   "source": []
  },
  {
   "cell_type": "markdown",
   "metadata": {},
   "source": [
    "## Conclusion"
   ]
  },
  {
   "cell_type": "markdown",
   "metadata": {},
   "source": [
    "Does the student provide appropriate context to connect individual steps back to the overall project?<br>\n",
    "Is it clear how the final recommendations were reached?<br>\n",
    "Are the conclusions/recommendations clearly stated?<br>\n",
    "Does the conclusion answer the original problem statement?<br>\n",
    "Does the student address how findings of this research can be applied for the benefit of stakeholders?<br>\n",
    "Are future steps to move the project forward identified?<br>"
   ]
  },
  {
   "cell_type": "code",
   "execution_count": null,
   "metadata": {},
   "outputs": [],
   "source": []
  }
 ],
 "metadata": {
  "kernelspec": {
   "display_name": "Python 3",
   "language": "python",
   "name": "python3"
  },
  "language_info": {
   "codemirror_mode": {
    "name": "ipython",
    "version": 3
   },
   "file_extension": ".py",
   "mimetype": "text/x-python",
   "name": "python",
   "nbconvert_exporter": "python",
   "pygments_lexer": "ipython3",
   "version": "3.8.3"
  }
 },
 "nbformat": 4,
 "nbformat_minor": 4
}
